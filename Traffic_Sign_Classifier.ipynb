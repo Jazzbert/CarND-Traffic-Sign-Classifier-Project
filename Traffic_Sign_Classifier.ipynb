{
 "cells": [
  {
   "cell_type": "markdown",
   "metadata": {
    "deletable": true,
    "editable": true
   },
   "source": [
    "# Self-Driving Car Engineer Nanodegree\n",
    "\n",
    "## Deep Learning\n",
    "\n",
    "## Project: Build a Traffic Sign Recognition Classifier\n",
    "\n",
    "In this notebook, a template is provided for you to implement your functionality in stages, which is required to successfully complete this project. If additional code is required that cannot be included in the notebook, be sure that the Python code is successfully imported and included in your submission if necessary. \n",
    "\n",
    "> **Note**: Once you have completed all of the code implementations, you need to finalize your work by exporting the iPython Notebook as an HTML document. Before exporting the notebook to html, all of the code cells need to have been run so that reviewers can see the final implementation and output. You can then export the notebook by using the menu above and navigating to  \\n\",\n",
    "    \"**File -> Download as -> HTML (.html)**. Include the finished document along with this notebook as your submission. \n",
    "\n",
    "In addition to implementing code, there is a writeup to complete. The writeup should be completed in a separate file, which can be either a markdown file or a pdf document. There is a [write up template](https://github.com/udacity/CarND-Traffic-Sign-Classifier-Project/blob/master/writeup_template.md) that can be used to guide the writing process. Completing the code template and writeup template will cover all of the [rubric points](https://review.udacity.com/#!/rubrics/481/view) for this project.\n",
    "\n",
    "The [rubric](https://review.udacity.com/#!/rubrics/481/view) contains \"Stand Out Suggestions\" for enhancing the project beyond the minimum requirements. The stand out suggestions are optional. If you decide to pursue the \"stand out suggestions\", you can include the code in this Ipython notebook and also discuss the results in the writeup file.\n",
    "\n",
    "\n",
    ">**Note:** Code and Markdown cells can be executed using the **Shift + Enter** keyboard shortcut. In addition, Markdown cells can be edited by typically double-clicking the cell to enter edit mode."
   ]
  },
  {
   "cell_type": "markdown",
   "metadata": {
    "deletable": true,
    "editable": true
   },
   "source": [
    "---\n",
    "## Step 0: Load The Data"
   ]
  },
  {
   "cell_type": "code",
   "execution_count": 1,
   "metadata": {
    "collapsed": false,
    "deletable": true,
    "editable": true
   },
   "outputs": [],
   "source": [
    "# Consolidated import Statements\n",
    "import pickle\n",
    "import numpy as np\n",
    "from sklearn import preprocessing\n",
    "import random\n",
    "import matplotlib.pyplot as plt\n",
    "import matplotlib.image as mpimg\n",
    "from matplotlib.ticker import AutoMinorLocator\n",
    "import tensorflow as tf\n",
    "from sklearn.utils import shuffle\n",
    "from scipy.ndimage import interpolation"
   ]
  },
  {
   "cell_type": "code",
   "execution_count": 2,
   "metadata": {
    "collapsed": false,
    "deletable": true,
    "editable": true
   },
   "outputs": [],
   "source": [
    "### Load pickled data\n",
    "\n",
    "# Data path and file names for data load\n",
    "data_path = '../DataFiles/TrafficSignData/'\n",
    "training_file = ''.join([data_path, 'train.p'])\n",
    "validation_file = ''.join([data_path, 'valid.p'])\n",
    "testing_file = ''.join([data_path, 'test.p'])\n",
    "\n",
    "with open(training_file, mode='rb') as f:\n",
    "    train = pickle.load(f)\n",
    "with open(validation_file, mode='rb') as f:\n",
    "    valid = pickle.load(f)\n",
    "with open(testing_file, mode='rb') as f:\n",
    "    test = pickle.load(f)\n",
    "    \n",
    "X_train, y_train = train['features'], train['labels']\n",
    "X_valid, y_valid = valid['features'], valid['labels']\n",
    "X_test, y_test = test['features'], test['labels']"
   ]
  },
  {
   "cell_type": "markdown",
   "metadata": {
    "deletable": true,
    "editable": true
   },
   "source": [
    "---\n",
    "\n",
    "## Step 1: Dataset Summary & Exploration\n",
    "\n",
    "The pickled data is a dictionary with 4 key/value pairs:\n",
    "\n",
    "- `'features'` is a 4D array containing raw pixel data of the traffic sign images, (num examples, width, height, channels).\n",
    "- `'labels'` is a 1D array containing the label/class id of the traffic sign. The file `signnames.csv` contains id -> name mappings for each id.\n",
    "- `'sizes'` is a list containing tuples, (width, height) representing the the original width and height the image.\n",
    "- `'coords'` is a list containing tuples, (x1, y1, x2, y2) representing coordinates of a bounding box around the sign in the image. **THESE COORDINATES ASSUME THE ORIGINAL IMAGE. THE PICKLED DATA CONTAINS RESIZED VERSIONS (32 by 32) OF THESE IMAGES**\n",
    "\n",
    "Complete the basic data summary below. Use python, numpy and/or pandas methods to calculate the data summary rather than hard coding the results. For example, the [pandas shape method](http://pandas.pydata.org/pandas-docs/stable/generated/pandas.DataFrame.shape.html) might be useful for calculating some of the summary results. "
   ]
  },
  {
   "cell_type": "markdown",
   "metadata": {
    "deletable": true,
    "editable": true
   },
   "source": [
    "### Provide a Basic Summary of the Data Set Using Python, Numpy and/or Pandas"
   ]
  },
  {
   "cell_type": "code",
   "execution_count": 3,
   "metadata": {
    "collapsed": false,
    "deletable": true,
    "editable": true
   },
   "outputs": [
    {
     "name": "stdout",
     "output_type": "stream",
     "text": [
      "Number of training examples = 34799\n",
      "Number of validation examples =  4410\n",
      "Number of testing examples = 12630\n",
      "Image data shape = (32, 32, 3)\n",
      "Number of classes = 43\n"
     ]
    }
   ],
   "source": [
    "### Replace each question mark with the appropriate value. \n",
    "### Use python, pandas or numpy methods rather than hard coding the results\n",
    "\n",
    "# Number of examples\n",
    "n_train = len(y_train)\n",
    "n_valid = len(y_valid)\n",
    "n_test = len(y_test)\n",
    "\n",
    "# What's the shape of an traffic sign image?\n",
    "image_shape = X_train[0].shape\n",
    "\n",
    "# How many unique classes/labels there are in the dataset.\n",
    "n_classes = len(set(np.append(y_train, np.append(y_test, y_valid))))\n",
    "\n",
    "print(\"Number of training examples =\", n_train)\n",
    "print(\"Number of validation examples = \", n_valid)\n",
    "print(\"Number of testing examples =\", n_test)\n",
    "print(\"Image data shape =\", image_shape)\n",
    "print(\"Number of classes =\", n_classes)"
   ]
  },
  {
   "cell_type": "markdown",
   "metadata": {
    "deletable": true,
    "editable": true
   },
   "source": [
    "### Include an exploratory visualization of the dataset"
   ]
  },
  {
   "cell_type": "markdown",
   "metadata": {
    "deletable": true,
    "editable": true
   },
   "source": [
    "Visualize the German Traffic Signs Dataset using the pickled file(s). This is open ended, suggestions include: plotting traffic sign images, plotting the count of each sign, etc.\n",
    "\n",
    "The [Matplotlib](http://matplotlib.org/) [examples](http://matplotlib.org/examples/index.html) and [gallery](http://matplotlib.org/gallery.html) pages are a great resource for doing visualizations in Python.\n",
    "\n",
    "**NOTE:** It's recommended you start with something simple first. If you wish to do more, come back to it after you've completed the rest of the sections."
   ]
  },
  {
   "cell_type": "code",
   "execution_count": 4,
   "metadata": {
    "collapsed": true,
    "deletable": true,
    "editable": true
   },
   "outputs": [],
   "source": [
    "### Print basic image helper\n",
    "def printImage(img):\n",
    "    cleaned_image = np.squeeze(img)\n",
    "    plt.figure(figsize=(1,1))\n",
    "    plt.imshow(cleaned_image) \n",
    "\n",
    "def printImages(images, nrows, titles = None, plot_size=2, is_gray=False):\n",
    "    ncols = int(np.ceil(images.shape[0] / nrows))\n",
    "    fig, axes = plt.subplots(nrows, ncols, figsize=(plot_size*ncols, plot_size*nrows))\n",
    "    fig.tight_layout()\n",
    "    axes = axes.ravel()\n",
    "    cmap = plt.cm.gray if is_gray else None\n",
    "    titles = titles or [None] * images.shape[0]\n",
    "    for img, ax, title in zip(images, axes, titles):\n",
    "        ax.imshow(img, cmap=cmap)\n",
    "        ax.set_title(title)"
   ]
  },
  {
   "cell_type": "code",
   "execution_count": 5,
   "metadata": {
    "collapsed": false,
    "deletable": true,
    "editable": true
   },
   "outputs": [
    {
     "name": "stdout",
     "output_type": "stream",
     "text": [
<<<<<<< HEAD
      "8\n"
=======
      "26\n"
>>>>>>> aws
     ]
    },
    {
     "data": {
<<<<<<< HEAD
      "image/png": "iVBORw0KGgoAAAANSUhEUgAAAFsAAABZCAYAAABR/liSAAAABHNCSVQICAgIfAhkiAAAAAlwSFlz\nAAALEgAACxIB0t1+/AAAC45JREFUeJztnE2ILUcVx3+nuu+d9yaJoPhB0KAi7iOILty4EcRNdKGY\nhSgIcRNQcGFw5TIL41aIGHAhiKBgFgEJoluJhqDGoAYRjT6ibjQfb253Vx0Xdaqqb987M3fmjnWH\nvP7D0D3V1VXV5546392iqsyoA3foBdxJmIldETOxK2ImdkXMxK6ImdgVMRO7IvYitoh8XET+ICIv\nisgjV7WoNyrksk6NiDTAH4GPAS8BzwAPqurvr255byy0e9z7IeBFVf0zgIj8AHgAOJXYIk6duxrJ\nJaPzq/OBJQ8sW5jwtHlCCKgGOeVyxj7Efifwt9H/LwEfnnYSkYeAh+yc45t3cz7B07o1DULagemK\niJ2pEiaEidcmY5w5TzyqCJKJHeyoqDUGTVNqmhonymuvv3LO80TsQ+xtv+TGk6nq48DjAE3T5uuJ\n4OOFQyTUBlMpyGS60t8hbBJbWR937drkh0vLFgRnhFXKMc81GgNARWlkurLTsQ+xXwLuG/3/LuAf\nu9481RWSGXEbJ8qoff3JVctYmSspnK2E04fNP1LZBeXHD9ZUSDkl6q5ETthHgD4DvF9E3isiS+Cz\nwJN7jPeGx6U5W1UHEXkY+CnQAE+o6vPn3ihiMnjanIVl5i4nSdRsk7yJAzXfm7c3urER1keY8qTm\nQ9i8MffPa0w9ti/sVOwjRlDVp4Cn9hnjTsJexL4MMhfa/xt8JHKagD0FylnSUyYWx+7Y0l8mJxrV\n8K6rnd31iqjO2dlWmDBOGJljWfaumYXTPWD9ncMZz8hItoqTte7proDmnSMjuR/7lGtI4sPCu3nD\nFRtww6o6C9WJreYkTJVNenARIYSQzzexrqycOFrXjq6Y7S3r4mP8EwUz6zR4gDxfNvdYt/s3BMXE\nN9gVsxipiAMoyHicutjbFFLiuBizSJw8OTphuWhiNx/sviIOdLRj0vxtE3ks2I6w2/A+oDrEc/Ub\n69EQJi0XU7ozZ1fEARSkOSKTtmISFlc77QInQtu0dm5cnIWwp1+t4mmWvSN3XabueshxGSGOJe4I\ngGWzJPHfEOKYPoQSgJrGZ9giz8/AQRSkbF1kIZSMLA2AhVuQjAtC3OZqe99Jg2p8jLaJxHNNi2vt\n0cTEid3n+45hGNJi7NjZ0WXxtHDL2EQP9iOGrXGW3Yk9i5GKOIidreMgvbUW/tCREkzLc+CjwlJT\nXMkMdm7B4sabALhx8wYATdNkGZTECMmsC56T27cB6FavA+D7lc3TE4KJGBMtQoNICcHGFY5DtLsr\nyZmzK6K+6Wd8cZrlJwgibtwEwWfOTJFAMZncHt3kxvFxPF8ubJBxvMQUavYyB46sSZq4iP4k/u/7\nHvVJxsf5GnF5LN3g5YvFcWbOroiDmH7rEjpiHJ1L5p35HugwkPjJmZUgTZSp6hzqIhf6ZK5pj08c\nSuT2xvo76RCi9aEmi3Gxj7gGgl0z3dC2LYS4npByuik/KZsZp7NQ3/TbSEVZu6WfxAmN2dQt8YEH\nFE0asTWTrI3EW/kBt4oKr7UuPnR0QzLTYv9lPOA4IWjs33cpRhKJ7VwLlibVIcoWkbKeQFLScayg\nYTOidgZmMVIRlTk7hitlS4JAR3G5Jnkw/ahkoI3c1y6jeRdMLOAdXW+OTo6qNqDrnubQRW4m9KQI\nh9rjizNPUoTGHCSzNAnB4xoTRXnnJHPyYk8/c3ZFHEBmm7SeiLrkortRHUaJ+jkWxtFHN+4CwJtJ\n5zUgFrw4Or7LJnF0XVR0g8lezVE8h0sKUdZ5zUHeVbqywpwAKVaQYyM5gujWYuDnoTKxo/c4LZEB\nSkZlFKQaJwNKjtIIuzSlJQ39yghr1siiaWkaU64WBmlNoYYQSqZmKgacELLnWfKMyYNMnm2jyWZX\nQthMhJyGWYxUxAE8yEmNxxZXMmTTyraytQOkMkENPQD96nZOBljQj97fpuvj9SBRZCyNs4eTkxJB\nzMybt1W+lsO14kpw0PZXCOUYVHe2tWfOrogDcDa53iKerqe/dXxNCgd5S856s8la8zKdSolPu9h/\n1d1mGGK/5cJMRkuddSsPk7h00sMiwJAcl9JYijTX6wCDhgspyHM5W0TuE5Gfi8gLIvK8iHzZ2t8i\nIk+LyJ/s+OadZ71DsQtnD8BXVfVZEbkH+LWIPA18AfiZqj5qr3g8AnztvMEKJ29Pniql3jpZBIrH\n+yiDExc7k8U6KvUYut6G9tnB8RbP9pbIBY9Xk+fZu3E2JqjNgyYOl1zykJyZtLsuytnnEltVbwG3\n7PwVEXmBWAj/APBR6/Y94BfsQOxdEEaBHltFJoLvLNjk0tIl5xJTqiyooKZJvdnSJ/ZDuMaR6Jkt\n72TaaSD0XVqEXdRsoye7P9edXLBw5EIyW0TeA3wA+CXwDvshUNVbIvL2U+5Ze/PgTsbOxBaRu4Ef\nAV9R1f/uSrjpmwfF5Ms94vhpHsp2bZLD5oTgoxgYupjKarK5tyQlCDSFQrVBXUr+WijW2HixOMbn\nuImJFgurhq6zcG7JvDtxuYakcHRRsBdhn51MPxFZEAn9fVX9sTW/LCL32vV7gX9eYN47EudytkRW\n/C7wgqp+a3TpSeDzwKN2/MkuEzrnRjEPYBJvUGAwhSTGvdI0meN6y2El5XnjeEFjEUHXxPjJ0glD\nckBs/HaRXG3lppmNQ2+J3/51G3uV3xJrzAlCAsFPzMHR2jcrYE7HLmLkI8DngN+KyHPW9nUikX8o\nIl8E/gp8eudZ71Bc+qXTy6BpWr3r+J7I2bLO0eOgUzL9nPnfy7bFJbNrMLPN+hzduJv2KCZ8nTkw\nTduCyezEeY1xuu87grnywyplbKykwQ8s2jRGPPZDR2cWSkjODWO9I5ycvIr3w7ksfpgc5Kikd1PR\nlrhgik8MXlkY4RtLb6nVeqxu/4du9ZoNGx+naRa4tiQEgCwKwtATrDoqJHFlqmuxWObStN5+1H7w\nOWU3ZQy4mIacYyMVcZBav20Ym4RTbg/B05sn2JoD0lrdiGoonJdrfztCX+LRMEq7aXmToEk7Ie0C\nJwzJxPSj+Mf09YXxus994oKZsyviQHUjBds4vbxikTjKY+KVpIZak62uXSIpcWv3CyGbcC7HWdKY\nLpuDKaqY3gIevB/FPVL/NQm9frygbXGYECvbiFzqSTYfokSbEqGGFLpwo9pui/y3IjSpADP1M7Ez\neEUt8JSCU8ljDcGXF6lyWoxiOW39IMFcfnYtcZDs+vQsYpwmm6Z8N9NpOTMurnwoIHNeKNn0XONR\nFHDJC5goyrm27SLjqjyRmbMronpFlFrlyNaX7oG1EsvRu4yJC1Ndx8LiJg7H0FuU0Ho7fA74Jwyd\nRfPE5TqTZPKlynpPUxIEthzPGQndbEbOCd9rh4MU6cSk7/TKSD5P3/0Ql+Vqa0HuFOvWoaNJZQ45\nvbVAUmmxrA+lOiBiUTxzYJLJ0ohD7NWStJPiDrFawq0fmClvpp2Hg9SNaHQT7f8pRt98yjZ1m8VG\nI6nSyYJDQXO1U7Owd2ra49yW3jgbLNYhrOi6+E2nvrNwbU5WCI1bT0S0KIMtpHxyq4SDL4JZjFRE\n1RCriPwLeA34d7VJL4+3svs6362qbzuvU1ViA4jIr1T1g1UnvQT+H+ucxUhFzMSuiEMQ+/EDzHkZ\nXPk6q8vsOxmzGKmIasS+zt/aPqNS9xsi8ncRec7+PrHXPDXEyHX/1rZVdN07rtQFPgl8BnhVVb95\nFfPU4uz8rW1V7YD0re1rAVW9parP2vkrQKrUvVLUIva2b21f+cNcBSaVugAPi8hvROSJfQv+axF7\nW1js2plB00pd4NvA+4D7iTXqj+0zfi1i7/Wt7RrYVqmrqi+rqtdYUfkdoji8NGoR+1p/a/u0St1U\nEm34FPC7feapEs++9Le26+G0St0HReR+osj7C/ClfSaZPciKmD3IipiJXREzsStiJnZFzMSuiJnY\nFTETuyJmYlfE/wApC2up2wCpXAAAAABJRU5ErkJggg==\n",
      "text/plain": [
       "<matplotlib.figure.Figure at 0x7f8214a94e80>"
=======
      "image/png": "iVBORw0KGgoAAAANSUhEUgAAAFsAAABZCAYAAABR/liSAAAABHNCSVQICAgIfAhkiAAAAAlwSFlz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\nMbMbpP8D89g0Fo/gatMAAAAASUVORK5CYII=\n",
      "text/plain": [
       "<matplotlib.figure.Figure at 0x7f432c498518>"
>>>>>>> aws
      ]
     },
     "metadata": {},
     "output_type": "display_data"
    }
   ],
   "source": [
    "### Data exploration visualization code goes here.\n",
    "### Feel free to use as many code cells as needed.\n",
    "\n",
    "# Visualizations will be shown in the notebook.\n",
    "%matplotlib inline\n",
    "\n",
    "# Starting with basic random image from data set\n",
    "index = random.randint(0, len(X_train))\n",
    "printImage(X_train[index])\n",
    "print(y_train[index])\n",
    "\n"
   ]
  },
  {
   "cell_type": "code",
   "execution_count": 6,
   "metadata": {
    "collapsed": false,
    "deletable": true,
    "editable": true
   },
   "outputs": [
    {
     "data": {
      "image/png": "iVBORw0KGgoAAAANSUhEUgAAAYEAAAD8CAYAAACRkhiPAAAABHNCSVQICAgIfAhkiAAAAAlwSFlz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\nRU5ErkJggg==\n",
      "text/plain": [
<<<<<<< HEAD
       "<matplotlib.figure.Figure at 0x7f81f219cda0>"
=======
       "<matplotlib.figure.Figure at 0x7f432bfd04e0>"
>>>>>>> aws
      ]
     },
     "metadata": {},
     "output_type": "display_data"
    }
   ],
   "source": [
    "# Display histogram of labels\n",
    "\n",
    "def printHistogram(y, n_classes):\n",
    "    fix, ax = plt.subplots()\n",
    "    plt.hist(y, bins=n_classes)\n",
    "    plt.xticks(range(0, n_classes, 5))\n",
    "    ax.xaxis.set_minor_locator(AutoMinorLocator(5))\n",
    "    ax.grid(True)\n",
    "    plt.show()\n",
    "\n",
    "printHistogram(y_train, n_classes)"
   ]
  },
  {
   "cell_type": "markdown",
   "metadata": {
    "deletable": true,
    "editable": true
   },
   "source": [
    "----\n",
    "\n",
    "## Step 2: Design and Test a Model Architecture\n",
    "\n",
    "Design and implement a deep learning model that learns to recognize traffic signs. Train and test your model on the [German Traffic Sign Dataset](http://benchmark.ini.rub.de/?section=gtsrb&subsection=dataset).\n",
    "\n",
    "There are various aspects to consider when thinking about this problem:\n",
    "\n",
    "- Neural network architecture\n",
    "- Play around preprocessing techniques (normalization, rgb to grayscale, etc)\n",
    "- Number of examples per label (some have more than others).\n",
    "- Generate fake data.\n",
    "\n",
    "Here is an example of a [published baseline model on this problem](http://yann.lecun.com/exdb/publis/pdf/sermanet-ijcnn-11.pdf). It's not required to be familiar with the approach used in the paper but, it's good practice to try to read papers like these.\n",
    "\n",
    "**NOTE:** The LeNet-5 implementation shown in the [classroom](https://classroom.udacity.com/nanodegrees/nd013/parts/fbf77062-5703-404e-b60c-95b78b2f3f9e/modules/6df7ae49-c61c-4bb2-a23e-6527e69209ec/lessons/601ae704-1035-4287-8b11-e2c2716217ad/concepts/d4aca031-508f-4e0b-b493-e7b706120f81) at the end of the CNN lesson is a solid starting point. You'll have to change the number of classes and possibly the preprocessing, but aside from that it's plug and play!"
   ]
  },
  {
   "cell_type": "markdown",
   "metadata": {
    "deletable": true,
    "editable": true
   },
   "source": [
    "### Pre-process the Data Set (normalization, grayscale, etc.)"
   ]
  },
  {
   "cell_type": "markdown",
   "metadata": {
    "deletable": true,
    "editable": true
   },
   "source": [
    "Use the code cell (or multiple code cells, if necessary) to implement the first step of your project."
   ]
  },
  {
   "cell_type": "code",
   "execution_count": 21,
   "metadata": {
    "collapsed": false,
    "deletable": true,
    "editable": true
   },
   "outputs": [],
   "source": [
    "### Helper functions for conversion\n",
    "\n",
    "def print_progress(current, total):\n",
    "    tenths_complete = int((10 * current) // total)\n",
    "    done = 'x' * tenths_complete \n",
    "    not_done = '-' * (10 - tenths_complete)\n",
    "    progress = done + not_done\n",
    "    print(\"Working: {}  {} of {} complete\".format(progress, current, total), end='\\r')\n",
    "\n",
    "def normalize(x):\n",
    "    # Convert to numpy\n",
    "    x = np.array(x, dtype=np.float64)\n",
    "\n",
    "    # Zero-center Data across each color channel\n",
    "    x -= np.mean(x, axis=0)\n",
    "    \n",
    "    # Scale image data between -1 and 1 after centering over zero\n",
    "    x = np.divide(x, 127.5)\n",
    "    \n",
    "    return x\n",
    "def pcaWhiten(X_images):\n",
    "    from sklearn.decomposition import PCA\n",
    "    pca = PCA(copy=False, whiten=True)\n",
    "    for x in X_images:\n",
    "        for c in range(3):\n",
    "            pca.fit_transform(x[...,c])\n",
    "            \n",
    "    return X_images\n",
    "   \n",
    "def balanceClasses(X, y):\n",
    "    print(\"Adding images to balance classes...\")\n",
    "    # Get counts for each class and largest count in the classes\n",
    "    classCounts = np.bincount(y)\n",
    "    highCount = classCounts[np.argmax(classCounts)]\n",
    "    \n",
    "    totalImages = highCount * len(classCounts)\n",
    "    currentImages = len(X)\n",
    "    \n",
    "    # Loop through each class and add new images to bring the total count up to the highest\n",
    "    for i in range(classCounts.size):\n",
    "        currentCount = classCounts[i]\n",
    "        imageClass = i\n",
    "        while (currentCount < highCount):\n",
    "            # get randomly altered image from random image from class\n",
    "            newImage = randomizeImage(X[getRandomImageIndex(X, y, i)][0])\n",
    "            np.append(X, newImage)\n",
    "            np.append(y, i)\n",
    "            currentCount += 1\n",
    "            currentImages += 1\n",
    "            print_progress(currentImages, totalImages)\n",
    "    return X, y\n",
    "        \n",
    "def getRandomImageIndex(X, y, imageClass = None):\n",
    "    if (imageClass is None):\n",
    "        rndIndex = random.randint(0, len(X) - 1)\n",
    "    else:\n",
    "        classIndexes = np.argwhere(y == imageClass)\n",
    "        rndIndex = classIndexes[random.randint(0, len(classIndexes) - 1)]\n",
    "    return rndIndex\n",
    "\n",
    "def randomizeImage(x):\n",
    "    rotationMin = -30.0\n",
    "    rotationMax = 30.0\n",
    "    shiftMin = -5.0\n",
    "    shiftMax = 5.0\n",
    "    \n",
    "    # determine change type, randomly some will be rotated (0), some will \n",
    "    # be translated (2), some will be both(1), evenly distributed\n",
    "    changeType = random.randint(0, 2)\n",
    "    \n",
    "    new_x = x\n",
    "    \n",
    "    if changeType <= 1: # then rotate\n",
    "        degrees = random.uniform(rotationMin, rotationMax)\n",
    "        new_x = rotateMe(new_x, degrees)\n",
    "    \n",
    "    if changeType >= 1: # then shift\n",
    "        a_factor = random.uniform(shiftMin, shiftMax)\n",
    "        b_factor = random.uniform(shiftMin, shiftMax)\n",
    "        new_x = shiftMe(new_x, a_factor, b_factor)\n",
    "        \n",
    "    return new_x\n",
    "    \n",
    "\n",
    "def rotateMe(x, degrees):\n",
    "    return interpolation.rotate(x, degrees, reshape=False, mode='nearest')\n",
    "\n",
    "def shiftMe(x, a_factor, b_factor):\n",
    "    return interpolation.shift(x, [a_factor, b_factor, 0], mode='nearest', order=3)\n",
    "    "
   ]
  },
  {
   "cell_type": "code",
   "execution_count": 22,
   "metadata": {
    "collapsed": true,
    "deletable": true,
    "editable": true
   },
   "outputs": [],
   "source": [
    "### Preprocessing Pipeline\n",
    "def preprocess(X, y):\n",
    "\n",
    "    X = normalize(X)\n",
    "    \n",
    "    X = pcaWhiten(X)\n",
    "    \n",
    "   \n",
    "    return X, y"
   ]
  },
  {
   "cell_type": "code",
   "execution_count": 23,
   "metadata": {
    "collapsed": false,
    "deletable": true,
    "editable": true,
    "scrolled": true
   },
   "outputs": [
    {
     "name": "stdout",
     "output_type": "stream",
     "text": [
<<<<<<< HEAD
      "Normalized values and image from previous random example:\n"
=======
      "Adding images to balance classes...\n",
      "Normalized values and image from previous random example:\n",
      "[[[-0.1109749  -0.09670989 -0.13258919]\n",
      "  [-0.09768424 -0.08165357 -0.1197841 ]\n",
      "  [-0.1044621  -0.08616168 -0.11043179]\n",
      "  ..., \n",
      "  [-0.16245676 -0.11300562 -0.12045439]\n",
      "  [-0.11631305 -0.09220669 -0.10680303]\n",
      "  [-0.08369677 -0.09539724 -0.10282926]]\n",
      "\n",
      " [[-0.10066516 -0.08641728 -0.11433624]\n",
      "  [-0.08631902 -0.07801384 -0.12435489]\n",
      "  [-0.09349086 -0.08319292 -0.11528881]\n",
      "  ..., \n",
      "  [-0.16485034 -0.13996042 -0.14025617]\n",
      "  [-0.12689055 -0.111919   -0.12730779]\n",
      "  [-0.11774666 -0.12279198 -0.13078409]]\n",
      "\n",
      " [[-0.09668714 -0.0741458  -0.09417497]\n",
      "  [-0.08366535 -0.0757467  -0.11396018]\n",
      "  [-0.09732239 -0.09517568 -0.11139395]\n",
      "  ..., \n",
      "  [-0.12728649 -0.11983633 -0.12027543]\n",
      "  [-0.13619958 -0.13088416 -0.13855828]\n",
      "  [-0.12005932 -0.11853786 -0.1108216 ]]\n",
      "\n",
      " ..., \n",
      " [[ 0.09342155  0.08208902  0.09344503]\n",
      "  [ 0.12317314  0.11247732  0.12930509]\n",
      "  [ 0.13141666  0.11464148  0.10655191]\n",
      "  ..., \n",
      "  [ 0.18571664  0.2113891   0.16166618]\n",
      "  [ 0.12217588  0.12987203  0.08114129]\n",
      "  [ 0.13025529  0.13423591  0.08544458]]\n",
      "\n",
      " [[ 0.12731028  0.10807647  0.12016813]\n",
      "  [ 0.20427914  0.17767505  0.18714877]\n",
      "  [ 0.15829257  0.13373962  0.11814769]\n",
      "  ..., \n",
      "  [ 0.10313663  0.1360847   0.09429981]\n",
      "  [ 0.06299298  0.08640763  0.05327121]\n",
      "  [ 0.09481568  0.11489549  0.07398132]]\n",
      "\n",
      " [[ 0.08487138  0.06533804  0.06938687]\n",
      "  [ 0.09883437  0.08765984  0.08134293]\n",
      "  [ 0.10801977  0.1068459   0.08309665]\n",
      "  ..., \n",
      "  [ 0.05135759  0.06823466  0.02660686]\n",
      "  [ 0.06704809  0.09030655  0.06534187]\n",
      "  [ 0.11353472  0.13403126  0.10117773]]]\n"
>>>>>>> aws
     ]
    },
    {
     "data": {
<<<<<<< HEAD
      "image/png": "iVBORw0KGgoAAAANSUhEUgAAAFsAAABZCAYAAABR/liSAAAABHNCSVQICAgIfAhkiAAAAAlwSFlz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\ne0I6MntCOjJ7Qjoye0I6MntC+j8axxeANF0cBwAAAABJRU5ErkJggg==\n",
      "text/plain": [
       "<matplotlib.figure.Figure at 0x7f81f20e8400>"
=======
      "image/png": "iVBORw0KGgoAAAANSUhEUgAAAFsAAABZCAYAAABR/liSAAAABHNCSVQICAgIfAhkiAAAAAlwSFlz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\nlyj/C18wztpczoWZAAAAAElFTkSuQmCC\n",
      "text/plain": [
       "<matplotlib.figure.Figure at 0x7f432be24ba8>"
>>>>>>> aws
      ]
     },
     "metadata": {},
     "output_type": "display_data"
    }
   ],
   "source": [
    "### Preprocess the data here. Preprocessing steps could include normalization, converting to grayscale, etc.\n",
    "### Feel free to use as many code cells as needed.\n",
    "\n",
    "# Add supplemental training images to under-represented classes\n",
    "X_train, y_train = balanceClasses(X_train, y_train)\n",
    "\n",
    "# Execute preprocessing chains\n",
    "X_train, y_train = preprocess(X_train, y_train)\n",
    "X_valid, y_valid = preprocess(X_valid, y_valid)\n",
    "X_test, y_test = preprocess(X_test, y_test)\n",
    "\n",
    "# Show preprocessing results example\n",
    "print(\"Normalized values and image from previous random example:\")\n",
    "#print(X_train[index])\n",
    "printImage(X_train[index])\n",
    "\n",
    "# Shuffle the data\n",
    "X_train, y_train = shuffle(X_train, y_train)"
   ]
  },
  {
   "cell_type": "markdown",
   "metadata": {
    "deletable": true,
    "editable": true
   },
   "source": [
    "### Model Architecture"
   ]
  },
  {
   "cell_type": "code",
   "execution_count": 77,
   "metadata": {
    "collapsed": true,
    "deletable": true,
    "editable": true
   },
   "outputs": [],
   "source": [
    "### Tweaked settings\n",
<<<<<<< HEAD
    "EPOCHS = 60\n",
    "BATCH_SIZE = 24\n",
    "DROPOUT_KEEP_PROB = 0.75\n",
=======
    "EPOCHS = 30\n",
    "BATCH_SIZE = 24\n",
    "DROPOUT_KEEP_PROB = 0.825\n",
>>>>>>> aws
    "MU = 0\n",
    "SIGMA = 0.1\n",
    "LEARN_RATE = 0.001"
   ]
  },
  {
   "cell_type": "code",
   "execution_count": 78,
   "metadata": {
    "collapsed": false,
    "deletable": true,
    "editable": true
   },
   "outputs": [],
   "source": [
    "### Define your architecture here.\n",
    "### Feel free to use as many code cells as needed.\n",
    "\n",
    "# this is used to easily experiment with different activation functions\n",
    "def my_activation(layer):\n",
    "    return tf.nn.softsign(layer)\n",
    "\n",
    "def LeNet(x):\n",
    "    \n",
    "    # Layer 1: Convolutional.  Input = 32x32x3.  Output = 28x28x24.\n",
    "    l1_W = tf.Variable(tf.truncated_normal([5, 5, 3, 24], MU, SIGMA))\n",
    "    l1_b = tf.Variable(tf.zeros(24))\n",
    "    l1_strides = [1, 1, 1, 1]\n",
    "    l1_padding = 'VALID'\n",
    "    \n",
    "    layer1 = tf.nn.conv2d(x, l1_W, l1_strides, l1_padding)\n",
    "    layer1 = tf.nn.bias_add(layer1, l1_b)\n",
    "    \n",
    "    # Layer 1: Activation.\n",
    "    layer1 = my_activation(layer1)\n",
    "    \n",
    "    # Layer 1: Pooling.  Input = 28x28x24.  Output = 14x14x24.\n",
    "    p1_ksize = [1, 2, 2, 1]\n",
    "    p1_strides = [1, 2, 2, 1]\n",
    "    p1_padding = 'VALID'\n",
    "    \n",
    "    pooled1 = tf.nn.max_pool(layer1, p1_ksize, p1_strides, p1_padding)\n",
    "    \n",
    "    # Layer 2: Convolutional. Input = 14x14x24. Output = 10x10x24\n",
    "    l2_W = tf.Variable(tf.truncated_normal([5, 5, 24, 24], MU, SIGMA))\n",
    "    l2_b = tf.Variable(tf.zeros(24))\n",
    "    l2_strides = [1, 1, 1, 1]\n",
    "    l2_padding = 'VALID'\n",
    "    \n",
    "    layer2 = tf.nn.conv2d(pooled1, l2_W, l2_strides, l2_padding)\n",
    "    layer2 = tf.nn.bias_add(layer2, l2_b)\n",
    "    \n",
    "    # Layer 2: Activiation.\n",
    "    layer2 = my_activation(layer2)\n",
    "    \n",
<<<<<<< HEAD
    "    # Layer 2: Dropout\n",
    "    layer2 = tf.nn.dropout(layer2, DROPOUT_KEEP_PROB)\n",
    "    \n",
    "    # Layer 2: Pooling.  Input = 10x10x24.  Output = 5x5x24.\n",
=======
    "    # Layer 2: Pooling.  Input = 10x10x32.  Output = 5x5x32.\n",
>>>>>>> aws
    "    p2_ksize = [1, 2, 2, 1]\n",
    "    p2_strides = [1, 2, 2, 1]\n",
    "    p2_padding = 'VALID'\n",
    "    \n",
    "    pooled2 = tf.nn.max_pool(layer2, p2_ksize, p2_strides, p2_padding)\n",
    "    \n",
    "    # Layer 3: Flatten.  Input = 5x5x24.  Output = 600.\n",
    "    layer3 = tf.reshape(pooled2, [-1, 600])\n",
    "    \n",
    "    # Layer 3: Fully Connected.  Input = 600.  Output = 300.\n",
    "    l3_W = tf.Variable(tf.truncated_normal([600, 300], MU, SIGMA))\n",
    "    l3_b = tf.Variable(tf.zeros([300]))\n",
    "    layer3 = tf.add(tf.matmul(layer3, l3_W), l3_b)\n",
    "    \n",
    "    # Layer 3: Dropout\n",
    "    #layer3 = tf.nn.dropout(layer3, DROPOUT_KEEP_PROB)\n",
    "    \n",
    "    # Layer 3: Activation.\n",
    "    layer3 = my_activation(layer3)\n",
    "    \n",
    "    # Layer 3a: Fully Connected.  Input = 300.  Output = 120.\n",
    "    l3a_W = tf.Variable(tf.truncated_normal([300, 120], MU, SIGMA))\n",
    "    l3a_b = tf.Variable(tf.zeros([120]))\n",
    "    layer3a = tf.add(tf.matmul(layer3, l3a_W), l3a_b)\n",
    "    \n",
    "    # Layer 3a: Dropout\n",
    "    #layer3a = tf.nn.dropout(layer3a, DROPOUT_KEEP_PROB)\n",
    "    \n",
    "    # Layer 3a: Activation.\n",
    "    layer3a = my_activation(layer3a)\n",
    "    \n",
    "    # Layer 4: Fully connected.  Input = 120.  Output = 84.\n",
    "    l4_W = tf.Variable(tf.truncated_normal([120, 84], MU, SIGMA))\n",
    "    l4_b = tf.Variable(tf.zeros([84]))\n",
    "    layer4 = tf.add(tf.matmul(layer3a, l4_W), l4_b)\n",
    "    \n",
    "    # Layer 4: Activation.\n",
    "    layer4 = my_activation(layer4)\n",
    "        \n",
    "    # Layer 5: Final, fully connected.  Input = 84.  Output = 43.\n",
    "    l5_W = tf.Variable(tf.truncated_normal([84, 43], MU, SIGMA))\n",
    "    l5_b = tf.Variable(tf.zeros([43]))\n",
    "    logits = tf.add(tf.matmul(layer4, l5_W), l5_b)\n",
    "\n",
    "    return logits\n",
    "    \n"
   ]
  },
  {
   "cell_type": "markdown",
   "metadata": {
    "deletable": true,
    "editable": true
   },
   "source": [
    "### Set up Features and Labels"
   ]
  },
  {
   "cell_type": "code",
   "execution_count": 79,
   "metadata": {
    "collapsed": true,
    "deletable": true,
    "editable": true
   },
   "outputs": [],
   "source": [
    "x = tf.placeholder(tf.float32, (None, 32, 32, 3))\n",
    "y = tf.placeholder(tf.int32, (None))\n",
    "one_hot_y = tf.one_hot(y, 43)"
   ]
  },
  {
   "cell_type": "markdown",
   "metadata": {
    "deletable": true,
    "editable": true
   },
   "source": [
    "### Train, Validate and Test the Model"
   ]
  },
  {
   "cell_type": "markdown",
   "metadata": {
    "deletable": true,
    "editable": true
   },
   "source": [
    "A validation set can be used to assess how well the model is performing. A low accuracy on the training and validation\n",
    "sets imply underfitting. A high accuracy on the training set but low accuracy on the validation set implies overfitting."
   ]
  },
  {
   "cell_type": "code",
   "execution_count": 80,
   "metadata": {
    "collapsed": false,
    "deletable": true,
    "editable": true
   },
   "outputs": [],
   "source": [
    "### Pipline setup\n",
    "logits = LeNet(x)\n",
    "cross_entropy = tf.nn.softmax_cross_entropy_with_logits(logits=logits, labels=one_hot_y)\n",
    "loss_operation = tf.reduce_mean(cross_entropy)\n",
    "#optimizer = tf.train.AdamOptimizer(learning_rate = LEARN_RATE)\n",
    "optimizer = tf.train.AdamOptimizer(learning_rate = LEARN_RATE)\n",
    "training_operation = optimizer.minimize(loss_operation)"
   ]
  },
  {
   "cell_type": "code",
   "execution_count": 81,
   "metadata": {
    "collapsed": true,
    "deletable": true,
    "editable": true
   },
   "outputs": [],
   "source": [
    "### Model Evaluation\n",
    "correct_prediction = tf.equal(tf.argmax(logits, 1), tf.argmax(one_hot_y, 1))\n",
    "accuracy_operation = tf.reduce_mean(tf.cast(correct_prediction, tf.float32))\n",
    "saver = tf.train.Saver()\n",
    "\n",
    "def evaluate(X_data, y_data):\n",
    "    num_examples = len(X_data)\n",
    "    total_accuracy = 0\n",
    "    sess = tf.get_default_session()\n",
    "    for offset in range(0, num_examples, BATCH_SIZE):\n",
    "        batch_x, batch_y = X_data[offset:offset+BATCH_SIZE], y_data[offset:offset+BATCH_SIZE]\n",
    "           \n",
    "        accuracy = sess.run(accuracy_operation, feed_dict={x: batch_x, y: batch_y})\n",
    "        total_accuracy += (accuracy * len(batch_x))\n",
    "    return total_accuracy / num_examples"
   ]
  },
  {
   "cell_type": "code",
   "execution_count": 82,
   "metadata": {
    "collapsed": false,
    "deletable": true,
    "editable": true
   },
   "outputs": [
    {
     "name": "stdout",
     "output_type": "stream",
     "text": [
      "Training...\n",
      "\n",
      "EPOCH 1 ...\n",
<<<<<<< HEAD
      "Validation Accuracy = 0.883\n",
      "\n",
      "EPOCH 2 ...\n",
      "Validation Accuracy = 0.908\n",
      "\n",
      "EPOCH 3 ...\n",
      "Validation Accuracy = 0.911\n",
      "\n",
      "EPOCH 4 ...\n",
      "Validation Accuracy = 0.918\n",
      "\n",
      "EPOCH 5 ...\n",
      "Validation Accuracy = 0.922\n",
      "\n",
      "EPOCH 6 ...\n",
      "Validation Accuracy = 0.915\n",
      "\n",
      "EPOCH 7 ...\n",
      "Validation Accuracy = 0.918\n",
      "\n",
      "EPOCH 8 ...\n",
      "Validation Accuracy = 0.934\n",
      "\n",
      "EPOCH 9 ...\n",
      "Validation Accuracy = 0.936\n",
      "\n",
      "EPOCH 10 ...\n",
      "Validation Accuracy = 0.929\n",
      "\n",
      "EPOCH 11 ...\n",
      "Validation Accuracy = 0.924\n",
      "\n",
      "EPOCH 12 ...\n",
      "Validation Accuracy = 0.929\n",
      "\n",
      "EPOCH 13 ...\n",
      "Validation Accuracy = 0.928\n",
      "\n",
      "EPOCH 14 ...\n",
      "Validation Accuracy = 0.926\n",
      "\n",
      "EPOCH 15 ...\n",
      "Validation Accuracy = 0.929\n",
      "\n",
      "EPOCH 16 ...\n",
      "Validation Accuracy = 0.938\n",
      "\n",
      "EPOCH 17 ...\n",
      "Validation Accuracy = 0.925\n",
      "\n",
      "EPOCH 18 ...\n",
      "Validation Accuracy = 0.930\n",
      "\n",
      "EPOCH 19 ...\n",
      "Validation Accuracy = 0.937\n",
=======
      "Validation Accuracy = 0.895\n",
      "\n",
      "EPOCH 2 ...\n",
      "Validation Accuracy = 0.913\n",
      "\n",
      "EPOCH 3 ...\n",
      "Validation Accuracy = 0.927\n",
      "\n",
      "EPOCH 4 ...\n",
      "Validation Accuracy = 0.937\n",
      "\n",
      "EPOCH 5 ...\n",
      "Validation Accuracy = 0.946\n",
      "\n",
      "EPOCH 6 ...\n",
      "Validation Accuracy = 0.941\n",
      "\n",
      "EPOCH 7 ...\n",
      "Validation Accuracy = 0.947\n",
      "\n",
      "EPOCH 8 ...\n",
      "Validation Accuracy = 0.940\n",
      "\n",
      "EPOCH 9 ...\n",
      "Validation Accuracy = 0.940\n",
      "\n",
      "EPOCH 10 ...\n",
      "Validation Accuracy = 0.933\n",
      "\n",
      "EPOCH 11 ...\n",
      "Validation Accuracy = 0.940\n",
      "\n",
      "EPOCH 12 ...\n",
      "Validation Accuracy = 0.945\n",
      "\n",
      "EPOCH 13 ...\n",
      "Validation Accuracy = 0.927\n",
      "\n",
      "EPOCH 14 ...\n",
      "Validation Accuracy = 0.939\n",
      "\n",
      "EPOCH 15 ...\n",
      "Validation Accuracy = 0.938\n",
      "\n",
      "EPOCH 16 ...\n",
      "Validation Accuracy = 0.944\n",
      "\n",
      "EPOCH 17 ...\n",
      "Validation Accuracy = 0.929\n",
      "\n",
      "EPOCH 18 ...\n",
      "Validation Accuracy = 0.940\n",
      "\n",
      "EPOCH 19 ...\n",
      "Validation Accuracy = 0.934\n",
>>>>>>> aws
      "\n",
      "EPOCH 20 ...\n",
      "Validation Accuracy = 0.924\n",
      "\n",
      "EPOCH 21 ...\n",
      "Validation Accuracy = 0.938\n",
      "\n",
      "EPOCH 22 ...\n",
      "Validation Accuracy = 0.938\n",
      "\n",
      "EPOCH 23 ...\n",
      "Validation Accuracy = 0.931\n",
      "\n",
      "EPOCH 24 ...\n",
      "Validation Accuracy = 0.931\n",
      "\n",
      "EPOCH 25 ...\n",
      "Validation Accuracy = 0.927\n",
      "\n",
      "EPOCH 26 ...\n",
      "Validation Accuracy = 0.916\n",
      "\n",
      "EPOCH 27 ...\n",
      "Validation Accuracy = 0.924\n",
      "\n",
      "EPOCH 28 ...\n",
      "Validation Accuracy = 0.928\n",
      "\n",
      "EPOCH 29 ...\n",
      "Validation Accuracy = 0.922\n",
      "\n",
      "EPOCH 30 ...\n",
      "Validation Accuracy = 0.923\n",
      "\n",
      "EPOCH 31 ...\n",
      "Validation Accuracy = 0.935\n",
      "\n",
      "EPOCH 32 ...\n",
      "Validation Accuracy = 0.925\n",
      "\n",
      "EPOCH 33 ...\n",
      "Validation Accuracy = 0.925\n",
      "\n",
      "EPOCH 34 ...\n",
      "Validation Accuracy = 0.928\n",
      "\n",
      "EPOCH 35 ...\n",
      "Validation Accuracy = 0.932\n",
      "\n",
      "EPOCH 36 ...\n",
      "Validation Accuracy = 0.922\n",
      "\n",
      "EPOCH 37 ...\n",
      "Validation Accuracy = 0.921\n",
      "\n",
      "EPOCH 38 ...\n",
      "Validation Accuracy = 0.922\n",
      "\n",
      "EPOCH 39 ...\n",
      "Validation Accuracy = 0.934\n",
      "\n",
      "EPOCH 40 ...\n",
      "Validation Accuracy = 0.934\n",
      "\n",
      "EPOCH 41 ...\n",
      "Validation Accuracy = 0.915\n",
      "\n",
      "EPOCH 42 ...\n",
      "Validation Accuracy = 0.924\n",
      "\n",
      "EPOCH 43 ...\n",
      "Validation Accuracy = 0.927\n",
      "\n",
      "EPOCH 44 ...\n",
      "Validation Accuracy = 0.937\n",
      "\n",
      "EPOCH 45 ...\n",
      "Validation Accuracy = 0.922\n",
      "\n",
      "EPOCH 46 ...\n",
      "Validation Accuracy = 0.932\n",
      "\n",
      "EPOCH 47 ...\n",
      "Validation Accuracy = 0.933\n",
      "\n",
      "EPOCH 48 ...\n",
      "Validation Accuracy = 0.934\n",
      "\n",
<<<<<<< HEAD
      "EPOCH 49 ...\n",
      "Validation Accuracy = 0.938\n",
      "\n",
      "EPOCH 50 ...\n",
      "Validation Accuracy = 0.942\n",
      "\n",
      "EPOCH 51 ...\n",
      "Validation Accuracy = 0.927\n",
      "\n",
      "EPOCH 52 ...\n",
      "Validation Accuracy = 0.922\n",
      "\n",
      "EPOCH 53 ...\n",
      "Validation Accuracy = 0.924\n",
      "\n",
      "EPOCH 54 ...\n",
      "Validation Accuracy = 0.922\n",
      "\n",
      "EPOCH 55 ...\n",
      "Validation Accuracy = 0.930\n",
      "\n",
      "EPOCH 56 ...\n",
      "Validation Accuracy = 0.934\n",
      "\n",
      "EPOCH 57 ...\n",
      "Validation Accuracy = 0.932\n",
      "\n",
      "EPOCH 58 ...\n",
      "Validation Accuracy = 0.920\n",
      "\n",
      "EPOCH 59 ...\n",
      "Validation Accuracy = 0.922\n",
      "\n",
      "EPOCH 60 ...\n",
      "Validation Accuracy = 0.921\n",
=======
      "EPOCH 21 ...\n",
      "Validation Accuracy = 0.941\n",
      "\n",
      "EPOCH 22 ...\n",
      "Validation Accuracy = 0.938\n",
      "\n",
      "EPOCH 23 ...\n",
      "Validation Accuracy = 0.941\n",
      "\n",
      "EPOCH 24 ...\n",
      "Validation Accuracy = 0.941\n",
      "\n",
      "EPOCH 25 ...\n",
      "Validation Accuracy = 0.930\n",
      "\n",
      "EPOCH 26 ...\n",
      "Validation Accuracy = 0.942\n",
      "\n",
      "EPOCH 27 ...\n",
      "Validation Accuracy = 0.928\n",
      "\n",
      "EPOCH 28 ...\n",
      "Validation Accuracy = 0.932\n",
      "\n",
      "EPOCH 29 ...\n",
      "Validation Accuracy = 0.932\n",
      "\n",
      "EPOCH 30 ...\n",
      "Validation Accuracy = 0.942\n",
>>>>>>> aws
      "\n",
      "Model saved\n"
     ]
    },
    {
     "data": {
<<<<<<< HEAD
      "image/png": "iVBORw0KGgoAAAANSUhEUgAAAX0AAAD8CAYAAACb4nSYAAAABHNCSVQICAgIfAhkiAAAAAlwSFlz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\nAclcQp0mPYzBAAAAAElFTkSuQmCC\n",
      "text/plain": [
       "<matplotlib.figure.Figure at 0x7f81e2b5f668>"
=======
      "image/png": "iVBORw0KGgoAAAANSUhEUgAAAX0AAAD8CAYAAACb4nSYAAAABHNCSVQICAgIfAhkiAAAAAlwSFlz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\n9M3MCsShb2ZWIP8Pny0fvA9wHCkAAAAASUVORK5CYII=\n",
      "text/plain": [
       "<matplotlib.figure.Figure at 0x7f42cdcf3be0>"
>>>>>>> aws
      ]
     },
     "metadata": {},
     "output_type": "display_data"
    }
   ],
   "source": [
    "### Train your model here.\n",
    "### Calculate and report the accuracy on the training and validation set.\n",
    "### Once a final model architecture is selected, \n",
    "### the accuracy on the test set should be calculated and reported as well.\n",
    "### Feel free to use as many code cells as needed.\n",
    "\n",
    "# Variable for collecting accuracy over epochs for graphing\n",
    "epoch_accuracy = []\n",
    "\n",
    "with tf.Session() as sess:\n",
    "    \n",
    "    sess.run(tf.global_variables_initializer())\n",
    "    num_examples = len(X_train)\n",
    "    \n",
    "    print(\"Training...\")\n",
    "    print()\n",
    "    for i in range(EPOCHS):\n",
    "        X_train, y_train = shuffle(X_train, y_train)\n",
    "        for offset in range(0, num_examples, BATCH_SIZE):\n",
    "            end = offset + BATCH_SIZE\n",
    "            batch_x, batch_y = X_train[offset:end], y_train[offset:end]\n",
    "            sess.run(training_operation, feed_dict={x: batch_x, y: batch_y})\n",
    "            \n",
    "        validation_accuracy = evaluate(X_valid, y_valid)\n",
    "        print(\"EPOCH {} ...\".format(i+1))\n",
    "        print(\"Validation Accuracy = {:.3f}\".format(validation_accuracy))\n",
    "        print()\n",
    "        epoch_accuracy.append(validation_accuracy)\n",
    "        \n",
    "    saver.save(sess, './signs')\n",
    "    print(\"Model saved\")\n",
    "    \n",
    "plt.scatter(range(EPOCHS), epoch_accuracy)\n",
    "plt.show()"
   ]
  },
  {
   "cell_type": "code",
   "execution_count": 83,
   "metadata": {
    "collapsed": false,
    "deletable": true,
    "editable": true
   },
   "outputs": [
    {
     "name": "stdout",
     "output_type": "stream",
     "text": [
<<<<<<< HEAD
      "  Final Training Accuracy = 0.993\n",
      "Final Validation Accuracy = 0.928\n",
      "            Test Accuracy = 0.921\n"
=======
      "  Final Training Accuracy = 0.996\n",
      "Final Validation Accuracy = 0.941\n",
      "            Test Accuracy = 0.933\n"
>>>>>>> aws
     ]
    }
   ],
   "source": [
    "# Accuracy Results\n",
    "with tf.Session() as sess:\n",
    "    saver.restore(sess, './signs')\n",
    "    train_accuracy = evaluate(X_train, y_train)\n",
    "    valid_accuracy = evaluate(X_valid, y_valid)\n",
    "    test_accuracy = evaluate(X_test, y_test)\n",
    "    print(\"  Final Training Accuracy = {:.3f}\".format(train_accuracy))\n",
    "    print(\"Final Validation Accuracy = {:.3f}\".format(valid_accuracy))\n",
    "    print(\"            Test Accuracy = {:.3f}\".format(test_accuracy))"
   ]
  },
  {
   "cell_type": "markdown",
   "metadata": {
    "deletable": true,
    "editable": true
   },
   "source": [
    "---\n",
    "\n",
    "## Step 3: Test a Model on New Images\n",
    "\n",
    "To give yourself more insight into how your model is working, download at least five pictures of German traffic signs from the web and use your model to predict the traffic sign type.\n",
    "\n",
    "You may find `signnames.csv` useful as it contains mappings from the class id (integer) to the actual sign name."
   ]
  },
  {
   "cell_type": "markdown",
   "metadata": {
    "deletable": true,
    "editable": true
   },
   "source": [
    "### Load and Output the Images"
   ]
  },
  {
   "cell_type": "code",
   "execution_count": 84,
   "metadata": {
    "collapsed": false,
    "deletable": true,
    "editable": true
   },
   "outputs": [
    {
     "data": {
      "image/png": "iVBORw0KGgoAAAANSUhEUgAAAZ8AAABlCAYAAACSnO5fAAAABHNCSVQICAgIfAhkiAAAAAlwSFlz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\nUqRIUXeki0+KFClSpKg7/j8DJFyAC+FIAAAAAABJRU5ErkJggg==\n",
      "text/plain": [
<<<<<<< HEAD
       "<matplotlib.figure.Figure at 0x7f81e2934f60>"
=======
       "<matplotlib.figure.Figure at 0x7f42ce50c7b8>"
>>>>>>> aws
      ]
     },
     "metadata": {},
     "output_type": "display_data"
    }
   ],
   "source": [
    "### Load the images and plot them here.\n",
    "### Feel free to use as many code cells as needed.\n",
    "\n",
    "image_path = './images/'\n",
    "images = []\n",
    "results = np.array([25, 5, 11, 1, 17], dtype=np.int32)\n",
    "\n",
    "for i in range(0, 5):\n",
    "    filename = 'sign' + str(i) + '-formatted.png'\n",
    "    images.append(mpimg.imread(image_path + filename))\n",
    "\n",
    "# Drop 4th png element from images\n",
    "# TODO: Really this should be broken out as image cleanup/validation method\n",
    "#       Probably not required for this project\n",
    "images = np.array(images, dtype=np.float32)\n",
    "images = np.delete(images, 3, 3)\n",
    "\n",
    "# Print images\n",
    "fig = plt.figure(figsize=(7, 1))\n",
    "i = 0\n",
    "for image in images:\n",
    "    a = fig.add_subplot(1, 5, i + 1)\n",
    "    plt.imshow(image)\n",
    "    a.set_title(str(results[i]))\n",
    "    i += 1\n"
   ]
  },
  {
   "cell_type": "markdown",
   "metadata": {
    "deletable": true,
    "editable": true
   },
   "source": [
    "### Predict the Sign Type for Each Image"
   ]
  },
  {
   "cell_type": "code",
<<<<<<< HEAD
   "execution_count": 22,
=======
   "execution_count": 91,
>>>>>>> aws
   "metadata": {
    "collapsed": false,
    "deletable": true,
    "editable": true
   },
   "outputs": [
    {
     "name": "stdout",
     "output_type": "stream",
     "text": [
      "Model restored\n",
<<<<<<< HEAD
      "Prediction: [15  5  5  5 23]\n",
=======
      "Prediction: [ 3  3  5 16  9]\n",
>>>>>>> aws
      "    Actual: [25  5 11  1 17]\n"
     ]
    }
   ],
   "source": [
    "### Run the predictions here and use the model to output the prediction for each image.\n",
    "### Make sure to pre-process the images with the same pre-processing pipeline used earlier.\n",
    "### Feel free to use as many code cells as needed.\n",
    "\n",
    "# Preprocess\n",
    "X_sample, y_sample = preprocess(images, results)\n",
    "\n",
    "# In new tf Session, restore variables and classify sample images\n",
    "with tf.Session() as sess:\n",
    "    saver.restore(sess, './signs')\n",
    "    print(\"Model restored\")\n",
    "    sm = tf.nn.softmax(logits)\n",
    "    values, indicies = sess.run(tf.nn.top_k(sm, k=5), feed_dict={x: X_sample, y: y_sample})\n",
    "\n",
    "# Display results\n",
    "sample_prediction = indicies[:,0]\n",
    "print('Prediction: ' + str(sample_prediction))\n",
    "print('    Actual: ' + str(y_sample))\n",
    "                        "
   ]
  },
  {
   "cell_type": "markdown",
   "metadata": {
    "deletable": true,
    "editable": true
   },
   "source": [
    "### Analyze Performance"
   ]
  },
  {
   "cell_type": "code",
<<<<<<< HEAD
   "execution_count": 23,
=======
   "execution_count": 92,
>>>>>>> aws
   "metadata": {
    "collapsed": false,
    "deletable": true,
    "editable": true
   },
   "outputs": [
    {
     "name": "stdout",
     "output_type": "stream",
     "text": [
      "  Accuracy: 0.0% (0 out of 5 correct)\n"
     ]
    }
   ],
   "source": [
    "### Calculate the accuracy for these 5 new images. \n",
    "### For example, if the model predicted 1 out of 5 signs correctly, it's 20% accurate on these new images.\n",
    "num_correct = np.sum(np.equal(sample_prediction, y_sample))\n",
    "num_samples = np.size(sample_prediction)\n",
    "print('  Accuracy: {:.1f}% ({} out of {} correct)'.format((float(num_correct) / float(num_samples)) * 100, \n",
    "                                                          num_correct, num_samples))\n"
   ]
  },
  {
   "cell_type": "markdown",
   "metadata": {
    "deletable": true,
    "editable": true
   },
   "source": [
    "### Output Top 5 Softmax Probabilities For Each Image Found on the Web"
   ]
  },
  {
   "cell_type": "markdown",
   "metadata": {
    "deletable": true,
    "editable": true
   },
   "source": [
    "For each of the new images, print out the model's softmax probabilities to show the **certainty** of the model's predictions (limit the output to the top 5 probabilities for each image). [`tf.nn.top_k`](https://www.tensorflow.org/versions/r0.12/api_docs/python/nn.html#top_k) could prove helpful here. \n",
    "\n",
    "The example below demonstrates how tf.nn.top_k can be used to find the top k predictions for each image.\n",
    "\n",
    "`tf.nn.top_k` will return the values and indices (class ids) of the top k predictions. So if k=3, for each sign, it'll return the 3 largest probabilities (out of a possible 43) and the correspoding class ids.\n",
    "\n",
    "Take this numpy array as an example. The values in the array represent predictions. The array contains softmax probabilities for five candidate images with six possible classes. `tk.nn.top_k` is used to choose the three classes with the highest probability:\n",
    "\n",
    "```\n",
    "# (5, 6) array\n",
    "a = np.array([[ 0.24879643,  0.07032244,  0.12641572,  0.34763842,  0.07893497,\n",
    "         0.12789202],\n",
    "       [ 0.28086119,  0.27569815,  0.08594638,  0.0178669 ,  0.18063401,\n",
    "         0.15899337],\n",
    "       [ 0.26076848,  0.23664738,  0.08020603,  0.07001922,  0.1134371 ,\n",
    "         0.23892179],\n",
    "       [ 0.11943333,  0.29198961,  0.02605103,  0.26234032,  0.1351348 ,\n",
    "         0.16505091],\n",
    "       [ 0.09561176,  0.34396535,  0.0643941 ,  0.16240774,  0.24206137,\n",
    "         0.09155967]])\n",
    "```\n",
    "\n",
    "Running it through `sess.run(tf.nn.top_k(tf.constant(a), k=3))` produces:\n",
    "\n",
    "```\n",
    "TopKV2(values=array([[ 0.34763842,  0.24879643,  0.12789202],\n",
    "       [ 0.28086119,  0.27569815,  0.18063401],\n",
    "       [ 0.26076848,  0.23892179,  0.23664738],\n",
    "       [ 0.29198961,  0.26234032,  0.16505091],\n",
    "       [ 0.34396535,  0.24206137,  0.16240774]]), indices=array([[3, 0, 5],\n",
    "       [0, 1, 4],\n",
    "       [0, 5, 1],\n",
    "       [1, 3, 5],\n",
    "       [1, 4, 3]], dtype=int32))\n",
    "```\n",
    "\n",
    "Looking just at the first row we get `[ 0.34763842,  0.24879643,  0.12789202]`, you can confirm these are the 3 largest probabilities in `a`. You'll also notice `[3, 0, 5]` are the corresponding indices."
   ]
  },
  {
   "cell_type": "code",
   "execution_count": 93,
   "metadata": {
    "collapsed": false,
    "deletable": true,
    "editable": true
   },
   "outputs": [
    {
     "name": "stdout",
     "output_type": "stream",
     "text": [
<<<<<<< HEAD
      "[[  6.25644743e-01   2.14731127e-01   5.66558316e-02   5.53702675e-02\n",
      "    3.49914022e-02]\n",
      " [  5.84550202e-01   3.71263415e-01   1.77457668e-02   8.35677702e-03\n",
      "    5.34215895e-03]\n",
      " [  9.91667688e-01   5.36047202e-03   1.87971734e-03   5.04152616e-04\n",
      "    2.20960646e-04]\n",
      " [  6.82133794e-01   1.17932469e-01   8.18717405e-02   4.74252515e-02\n",
      "    3.13229337e-02]\n",
      " [  6.00430012e-01   1.68988302e-01   8.96258056e-02   5.07693067e-02\n",
      "    3.16580012e-02]] [[40 23  2 38  9]\n",
      " [ 5 31 23  3  6]\n",
      " [40 23 28  9 19]\n",
      " [20 18  8  5 16]\n",
      " [31  8 17 23 20]]\n"
=======
      "TopKV2(values=array([[ 0.49850905,  0.37826428,  0.03401378,  0.03011262,  0.02380699],\n",
      "       [ 0.58807331,  0.22662388,  0.10372308,  0.03557452,  0.02437272],\n",
      "       [ 0.72956997,  0.15013988,  0.10611825,  0.00522037,  0.00216841],\n",
      "       [ 0.78216887,  0.10950466,  0.06012945,  0.03143015,  0.01434872],\n",
      "       [ 0.84289247,  0.06925827,  0.06528346,  0.01809015,  0.0020005 ]], dtype=float32), indices=array([[16, 10,  9, 28,  5],\n",
      "       [16,  5, 28,  3, 19],\n",
      "       [16,  5, 28, 10,  3],\n",
      "       [10, 16,  9, 19,  5],\n",
      "       [16,  9, 28,  5, 15]], dtype=int32))\n"
>>>>>>> aws
     ]
    }
   ],
   "source": [
    "### Print out the top five softmax probabilities for the predictions on the German traffic sign images found on the web. \n",
    "### Feel free to use as many code cells as needed.\n",
    "with tf.Session() as sess:\n",
    "    saver.restore(sess, './signs')\n",
    "    sm = tf.nn.softmax(logits)\n",
    "    values, indicies = sess.run(tf.nn.top_k(sm, k=5), feed_dict={x: X_sample, y: y_sample})\n",
    "\n",
    "print(values, indicies)"
   ]
  },
  {
   "cell_type": "markdown",
   "metadata": {
    "deletable": true,
    "editable": true
   },
   "source": [
    "---\n",
    "\n",
    "## Step 4: Visualize the Neural Network's State with Test Images\n",
    "\n",
    " This Section is not required to complete but acts as an additional excersise for understaning the output of a neural network's weights. While neural networks can be a great learning device they are often referred to as a black box. We can understand what the weights of a neural network look like better by plotting their feature maps. After successfully training your neural network you can see what it's feature maps look like by plotting the output of the network's weight layers in response to a test stimuli image. From these plotted feature maps, it's possible to see what characteristics of an image the network finds interesting. For a sign, maybe the inner network feature maps react with high activation to the sign's boundary outline or to the contrast in the sign's painted symbol.\n",
    "\n",
    " Provided for you below is the function code that allows you to get the visualization output of any tensorflow weight layer you want. The inputs to the function should be a stimuli image, one used during training or a new one you provided, and then the tensorflow variable name that represents the layer's state during the training process, for instance if you wanted to see what the [LeNet lab's](https://classroom.udacity.com/nanodegrees/nd013/parts/fbf77062-5703-404e-b60c-95b78b2f3f9e/modules/6df7ae49-c61c-4bb2-a23e-6527e69209ec/lessons/601ae704-1035-4287-8b11-e2c2716217ad/concepts/d4aca031-508f-4e0b-b493-e7b706120f81) feature maps looked like for it's second convolutional layer you could enter conv2 as the tf_activation variable.\n",
    "\n",
    "For an example of what feature map outputs look like, check out NVIDIA's results in their paper [End-to-End Deep Learning for Self-Driving Cars](https://devblogs.nvidia.com/parallelforall/deep-learning-self-driving-cars/) in the section Visualization of internal CNN State. NVIDIA was able to show that their network's inner weights had high activations to road boundary lines by comparing feature maps from an image with a clear path to one without. Try experimenting with a similar test to show that your trained network's weights are looking for interesting features, whether it's looking at differences in feature maps from images with or without a sign, or even what feature maps look like in a trained network vs a completely untrained one on the same sign image.\n",
    "\n",
    "<figure>\n",
    " <img src=\"visualize_cnn.png\" width=\"380\" alt=\"Combined Image\" />\n",
    " <figcaption>\n",
    " <p></p> \n",
    " <p style=\"text-align: center;\"> Your output should look something like this (above)</p> \n",
    " </figcaption>\n",
    "</figure>\n",
    " <p></p> \n"
   ]
  },
  {
   "cell_type": "code",
   "execution_count": 35,
   "metadata": {
    "collapsed": true,
    "deletable": true,
    "editable": true
   },
   "outputs": [],
   "source": [
    "### Visualize your network's feature maps here.\n",
    "### Feel free to use as many code cells as needed.\n",
    "\n",
    "# image_input: the test image being fed into the network to produce the feature maps\n",
    "# tf_activation: should be a tf variable name used during your training procedure that represents the calculated state of a specific weight layer\n",
    "# activation_min/max: can be used to view the activation contrast in more detail, by default matplot sets min and max to the actual min and max values of the output\n",
    "# plt_num: used to plot out multiple different weight feature map sets on the same block, just extend the plt number for each new feature map entry\n",
    "\n",
    "def outputFeatureMap(image_input, tf_activation, activation_min=-1, activation_max=-1 ,plt_num=1):\n",
    "    # Here make sure to preprocess your image_input in a way your network expects\n",
    "    # with size, normalization, ect if needed\n",
    "    # image_input =\n",
    "    # Note: x should be the same name as your network's tensorflow data placeholder variable\n",
    "    # If you get an error tf_activation is not defined it maybe having trouble accessing the variable from inside a function\n",
    "    activation = tf_activation.eval(session=sess,feed_dict={x : image_input})\n",
    "    featuremaps = activation.shape[3]\n",
    "    plt.figure(plt_num, figsize=(15,15))\n",
    "    for featuremap in range(featuremaps):\n",
    "        plt.subplot(6,8, featuremap+1) # sets the number of feature maps to show on each row and column\n",
    "        plt.title('FeatureMap ' + str(featuremap)) # displays the feature map number\n",
    "        if activation_min != -1 & activation_max != -1:\n",
    "            plt.imshow(activation[0,:,:, featuremap], interpolation=\"nearest\", vmin =activation_min, vmax=activation_max, cmap=\"gray\")\n",
    "        elif activation_max != -1:\n",
    "            plt.imshow(activation[0,:,:, featuremap], interpolation=\"nearest\", vmax=activation_max, cmap=\"gray\")\n",
    "        elif activation_min !=-1:\n",
    "            plt.imshow(activation[0,:,:, featuremap], interpolation=\"nearest\", vmin=activation_min, cmap=\"gray\")\n",
    "        else:\n",
    "            plt.imshow(activation[0,:,:, featuremap], interpolation=\"nearest\", cmap=\"gray\")"
   ]
  },
  {
   "cell_type": "markdown",
   "metadata": {
    "deletable": true,
    "editable": true
   },
   "source": [
    "### Question 9\n",
    "\n",
    "Discuss how you used the visual output of your trained network's feature maps to show that it had learned to look for interesting characteristics in traffic sign images\n"
   ]
  },
  {
   "cell_type": "markdown",
   "metadata": {
    "deletable": true,
    "editable": true
   },
   "source": [
    "**Answer:**"
   ]
  },
  {
   "cell_type": "markdown",
   "metadata": {
    "deletable": true,
    "editable": true
   },
   "source": [
    "> **Note**: Once you have completed all of the code implementations and successfully answered each question above, you may finalize your work by exporting the iPython Notebook as an HTML document. You can do this by using the menu above and navigating to  \\n\",\n",
    "    \"**File -> Download as -> HTML (.html)**. Include the finished document along with this notebook as your submission."
   ]
  }
 ],
 "metadata": {
  "anaconda-cloud": {},
  "kernelspec": {
   "display_name": "Python 3",
   "language": "python",
   "name": "python3"
  },
  "language_info": {
   "codemirror_mode": {
    "name": "ipython",
    "version": 3
   },
   "file_extension": ".py",
   "mimetype": "text/x-python",
   "name": "python",
   "nbconvert_exporter": "python",
   "pygments_lexer": "ipython3",
   "version": "3.5.2"
  },
  "widgets": {
   "state": {},
   "version": "1.1.2"
  }
 },
 "nbformat": 4,
 "nbformat_minor": 1
}
