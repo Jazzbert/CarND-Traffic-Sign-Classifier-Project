{
 "cells": [
  {
   "cell_type": "markdown",
   "metadata": {
    "deletable": true,
    "editable": true
   },
   "source": [
    "# Self-Driving Car Engineer Nanodegree\n",
    "\n",
    "## Deep Learning\n",
    "\n",
    "## Project: Build a Traffic Sign Recognition Classifier\n",
    "\n",
    "In this notebook, a template is provided for you to implement your functionality in stages, which is required to successfully complete this project. If additional code is required that cannot be included in the notebook, be sure that the Python code is successfully imported and included in your submission if necessary. \n",
    "\n",
    "> **Note**: Once you have completed all of the code implementations, you need to finalize your work by exporting the iPython Notebook as an HTML document. Before exporting the notebook to html, all of the code cells need to have been run so that reviewers can see the final implementation and output. You can then export the notebook by using the menu above and navigating to  \\n\",\n",
    "    \"**File -> Download as -> HTML (.html)**. Include the finished document along with this notebook as your submission. \n",
    "\n",
    "In addition to implementing code, there is a writeup to complete. The writeup should be completed in a separate file, which can be either a markdown file or a pdf document. There is a [write up template](https://github.com/udacity/CarND-Traffic-Sign-Classifier-Project/blob/master/writeup_template.md) that can be used to guide the writing process. Completing the code template and writeup template will cover all of the [rubric points](https://review.udacity.com/#!/rubrics/481/view) for this project.\n",
    "\n",
    "The [rubric](https://review.udacity.com/#!/rubrics/481/view) contains \"Stand Out Suggestions\" for enhancing the project beyond the minimum requirements. The stand out suggestions are optional. If you decide to pursue the \"stand out suggestions\", you can include the code in this Ipython notebook and also discuss the results in the writeup file.\n",
    "\n",
    "\n",
    ">**Note:** Code and Markdown cells can be executed using the **Shift + Enter** keyboard shortcut. In addition, Markdown cells can be edited by typically double-clicking the cell to enter edit mode."
   ]
  },
  {
   "cell_type": "markdown",
   "metadata": {
    "deletable": true,
    "editable": true
   },
   "source": [
    "---\n",
    "## Step 0: Load The Data"
   ]
  },
  {
   "cell_type": "code",
   "execution_count": 1,
   "metadata": {
    "collapsed": false,
    "deletable": true,
    "editable": true
   },
   "outputs": [],
   "source": [
    "# Consolidated import Statements\n",
    "import pickle\n",
    "import numpy as np\n",
    "from sklearn import preprocessing\n",
    "import random\n",
    "import matplotlib.pyplot as plt\n",
    "import matplotlib.image as mpimg\n",
    "from matplotlib.ticker import AutoMinorLocator\n",
    "import tensorflow as tf\n",
    "from sklearn.utils import shuffle\n",
    "from scipy.ndimage import interpolation"
   ]
  },
  {
   "cell_type": "code",
   "execution_count": 2,
   "metadata": {
    "collapsed": false,
    "deletable": true,
    "editable": true
   },
   "outputs": [],
   "source": [
    "### Load pickled data\n",
    "\n",
    "# Data path and file names for data load\n",
    "data_path = '../DataFiles/TrafficSignData/'\n",
    "training_file = ''.join([data_path, 'train.p'])\n",
    "validation_file = ''.join([data_path, 'valid.p'])\n",
    "testing_file = ''.join([data_path, 'test.p'])\n",
    "\n",
    "with open(training_file, mode='rb') as f:\n",
    "    train = pickle.load(f)\n",
    "with open(validation_file, mode='rb') as f:\n",
    "    valid = pickle.load(f)\n",
    "with open(testing_file, mode='rb') as f:\n",
    "    test = pickle.load(f)\n",
    "    \n",
    "X_train, y_train = train['features'], train['labels']\n",
    "X_valid, y_valid = valid['features'], valid['labels']\n",
    "X_test, y_test = test['features'], test['labels']"
   ]
  },
  {
   "cell_type": "markdown",
   "metadata": {
    "deletable": true,
    "editable": true
   },
   "source": [
    "---\n",
    "\n",
    "## Step 1: Dataset Summary & Exploration\n",
    "\n",
    "The pickled data is a dictionary with 4 key/value pairs:\n",
    "\n",
    "- `'features'` is a 4D array containing raw pixel data of the traffic sign images, (num examples, width, height, channels).\n",
    "- `'labels'` is a 1D array containing the label/class id of the traffic sign. The file `signnames.csv` contains id -> name mappings for each id.\n",
    "- `'sizes'` is a list containing tuples, (width, height) representing the the original width and height the image.\n",
    "- `'coords'` is a list containing tuples, (x1, y1, x2, y2) representing coordinates of a bounding box around the sign in the image. **THESE COORDINATES ASSUME THE ORIGINAL IMAGE. THE PICKLED DATA CONTAINS RESIZED VERSIONS (32 by 32) OF THESE IMAGES**\n",
    "\n",
    "Complete the basic data summary below. Use python, numpy and/or pandas methods to calculate the data summary rather than hard coding the results. For example, the [pandas shape method](http://pandas.pydata.org/pandas-docs/stable/generated/pandas.DataFrame.shape.html) might be useful for calculating some of the summary results. "
   ]
  },
  {
   "cell_type": "markdown",
   "metadata": {
    "deletable": true,
    "editable": true
   },
   "source": [
    "### Provide a Basic Summary of the Data Set Using Python, Numpy and/or Pandas"
   ]
  },
  {
   "cell_type": "code",
   "execution_count": 3,
   "metadata": {
    "collapsed": false,
    "deletable": true,
    "editable": true
   },
   "outputs": [
    {
     "name": "stdout",
     "output_type": "stream",
     "text": [
      "Number of training examples = 34799\n",
      "Number of validation examples =  4410\n",
      "Number of testing examples = 12630\n",
      "Image data shape = (32, 32, 3)\n",
      "Number of classes = 43\n"
     ]
    }
   ],
   "source": [
    "### Replace each question mark with the appropriate value. \n",
    "### Use python, pandas or numpy methods rather than hard coding the results\n",
    "\n",
    "# Number of examples\n",
    "n_train = len(y_train)\n",
    "n_valid = len(y_valid)\n",
    "n_test = len(y_test)\n",
    "\n",
    "# What's the shape of an traffic sign image?\n",
    "image_shape = X_train[0].shape\n",
    "\n",
    "# How many unique classes/labels there are in the dataset.\n",
    "n_classes = len(set(np.append(y_train, np.append(y_test, y_valid))))\n",
    "\n",
    "print(\"Number of training examples =\", n_train)\n",
    "print(\"Number of validation examples = \", n_valid)\n",
    "print(\"Number of testing examples =\", n_test)\n",
    "print(\"Image data shape =\", image_shape)\n",
    "print(\"Number of classes =\", n_classes)"
   ]
  },
  {
   "cell_type": "markdown",
   "metadata": {
    "deletable": true,
    "editable": true
   },
   "source": [
    "### Include an exploratory visualization of the dataset"
   ]
  },
  {
   "cell_type": "markdown",
   "metadata": {
    "deletable": true,
    "editable": true
   },
   "source": [
    "Visualize the German Traffic Signs Dataset using the pickled file(s). This is open ended, suggestions include: plotting traffic sign images, plotting the count of each sign, etc.\n",
    "\n",
    "The [Matplotlib](http://matplotlib.org/) [examples](http://matplotlib.org/examples/index.html) and [gallery](http://matplotlib.org/gallery.html) pages are a great resource for doing visualizations in Python.\n",
    "\n",
    "**NOTE:** It's recommended you start with something simple first. If you wish to do more, come back to it after you've completed the rest of the sections."
   ]
  },
  {
   "cell_type": "code",
   "execution_count": 4,
   "metadata": {
    "collapsed": true,
    "deletable": true,
    "editable": true
   },
   "outputs": [],
   "source": [
    "### Print basic image helper\n",
    "def printImage(img):\n",
    "    cleaned_image = np.squeeze(img)\n",
    "    plt.figure(figsize=(1,1))\n",
    "    plt.imshow(cleaned_image)"
   ]
  },
  {
   "cell_type": "code",
   "execution_count": 5,
   "metadata": {
    "collapsed": false,
    "deletable": true,
    "editable": true
   },
   "outputs": [
    {
     "name": "stdout",
     "output_type": "stream",
     "text": [
      "10\n"
     ]
    },
    {
     "data": {
      "image/png": "[encoded data removed]",
      "text/plain": [
       "<matplotlib.figure.Figure at 0x7fc8f8761d30>"
      ]
     },
     "metadata": {},
     "output_type": "display_data"
    }
   ],
   "source": [
    "### Data exploration visualization code goes here.\n",
    "### Feel free to use as many code cells as needed.\n",
    "\n",
    "# Visualizations will be shown in the notebook.\n",
    "%matplotlib inline\n",
    "\n",
    "# Starting with basic random image from data set\n",
    "index = random.randint(0, len(X_train))\n",
    "printImage(X_train[index])\n",
    "print(y_train[index])"
   ]
  },
  {
   "cell_type": "code",
   "execution_count": 6,
   "metadata": {
    "collapsed": false,
    "deletable": true,
    "editable": true
   },
   "outputs": [
    {
     "data": {
      "image/png": "[encoded data removed]",
      "text/plain": [
       "<matplotlib.figure.Figure at 0x7fc89b6e14a8>"
      ]
     },
     "metadata": {},
     "output_type": "display_data"
    }
   ],
   "source": [
    "# Display histogram of labels\n",
    "\n",
    "def printHistogram(y, n_classes):\n",
    "    fix, ax = plt.subplots()\n",
    "    plt.hist(y, bins=n_classes)\n",
    "    plt.xticks(range(0, n_classes, 5))\n",
    "    ax.xaxis.set_minor_locator(AutoMinorLocator(5))\n",
    "    ax.grid(True)\n",
    "    plt.show()\n",
    "\n",
    "printHistogram(y_train, n_classes)"
   ]
  },
  {
   "cell_type": "markdown",
   "metadata": {
    "deletable": true,
    "editable": true
   },
   "source": [
    "----\n",
    "\n",
    "## Step 2: Design and Test a Model Architecture\n",
    "\n",
    "Design and implement a deep learning model that learns to recognize traffic signs. Train and test your model on the [German Traffic Sign Dataset](http://benchmark.ini.rub.de/?section=gtsrb&subsection=dataset).\n",
    "\n",
    "There are various aspects to consider when thinking about this problem:\n",
    "\n",
    "- Neural network architecture\n",
    "- Play around preprocessing techniques (normalization, rgb to grayscale, etc)\n",
    "- Number of examples per label (some have more than others).\n",
    "- Generate fake data.\n",
    "\n",
    "Here is an example of a [published baseline model on this problem](http://yann.lecun.com/exdb/publis/pdf/sermanet-ijcnn-11.pdf). It's not required to be familiar with the approach used in the paper but, it's good practice to try to read papers like these.\n",
    "\n",
    "**NOTE:** The LeNet-5 implementation shown in the [classroom](https://classroom.udacity.com/nanodegrees/nd013/parts/fbf77062-5703-404e-b60c-95b78b2f3f9e/modules/6df7ae49-c61c-4bb2-a23e-6527e69209ec/lessons/601ae704-1035-4287-8b11-e2c2716217ad/concepts/d4aca031-508f-4e0b-b493-e7b706120f81) at the end of the CNN lesson is a solid starting point. You'll have to change the number of classes and possibly the preprocessing, but aside from that it's plug and play!"
   ]
  },
  {
   "cell_type": "markdown",
   "metadata": {
    "deletable": true,
    "editable": true
   },
   "source": [
    "### Pre-process the Data Set (normalization, grayscale, etc.)"
   ]
  },
  {
   "cell_type": "markdown",
   "metadata": {
    "deletable": true,
    "editable": true
   },
   "source": [
    "Use the code cell (or multiple code cells, if necessary) to implement the first step of your project."
   ]
  },
  {
   "cell_type": "code",
   "execution_count": 7,
   "metadata": {
    "collapsed": false,
    "deletable": true,
    "editable": true
   },
   "outputs": [],
   "source": [
    "### Helper functions for conversion\n",
    "\n",
    "def print_progress(current, total):\n",
    "    tenths_complete = int((10 * current) // total)\n",
    "    done = 'x' * tenths_complete \n",
    "    not_done = '-' * (10 - tenths_complete)\n",
    "    progress = done + not_done\n",
    "    print(\"Working: {}  {} of {} complete\".format(progress, current, total), end='\\r')\n",
    "\n",
    "def normalize(x):\n",
    "    # Convert to numpy\n",
    "    x = np.array(x, dtype=np.float64)\n",
    "\n",
    "    # Zero-center Data across each color channel\n",
    "    x -= np.mean(x, axis=0)\n",
    "    \n",
    "    # Scale image data between -1 and 1 after centering over zero\n",
    "    x = np.divide(x, 127.5)\n",
    "    \n",
    "    return x\n",
    "def pcaWhiten(X_images):\n",
    "    from sklearn.decomposition import PCA\n",
    "    pca = PCA(copy=False, whiten=True)\n",
    "    for x in X_images:\n",
    "        for c in range(3):\n",
    "            pca.fit_transform(x[...,c])\n",
    "            \n",
    "    return X_images\n",
    "   \n",
    "def balanceClasses(X, y):\n",
    "    print(\"Adding images to balance classes...\")\n",
    "    # Get counts for each class and largest count in the classes\n",
    "    classCounts = np.bincount(y)\n",
    "    highCount = classCounts[np.argmax(classCounts)]\n",
    "    \n",
    "    totalImages = highCount * len(classCounts)\n",
    "    currentImages = len(X)\n",
    "    \n",
    "    # Loop through each class and add new images to bring the total count up to the highest\n",
    "    for i in range(classCounts.size):\n",
    "        currentCount = classCounts[i]\n",
    "        imageClass = i\n",
    "        while (currentCount < highCount):\n",
    "            # get randomly altered image from random image from class\n",
    "            newImage = randomizeImage(X[getRandomImageIndex(X, y, i)][0])\n",
    "            X = np.append(X, [newImage], axis=0)\n",
    "            y = np.append(y, i)\n",
    "            currentCount += 1\n",
    "            currentImages += 1\n",
    "            print_progress(currentImages, totalImages)\n",
    "    return X, y\n",
    "        \n",
    "def getRandomImageIndex(X, y, imageClass = None):\n",
    "    if (imageClass is None):\n",
    "        rndIndex = random.randint(0, len(X) - 1)\n",
    "    else:\n",
    "        classIndexes = np.argwhere(y == imageClass)\n",
    "        rndIndex = classIndexes[random.randint(0, len(classIndexes) - 1)]\n",
    "    return rndIndex\n",
    "\n",
    "def randomizeImage(x):\n",
    "    rotationMin = -30.0\n",
    "    rotationMax = 30.0\n",
    "    shiftMin = -5.0\n",
    "    shiftMax = 5.0\n",
    "    \n",
    "    # determine change type, randomly some will be rotated (0), some will \n",
    "    # be translated (2), some will be both(1), evenly distributed\n",
    "    changeType = random.randint(0, 2)\n",
    "    \n",
    "    new_x = x\n",
    "    \n",
    "    if changeType <= 1: # then rotate\n",
    "        degrees = random.uniform(rotationMin, rotationMax)\n",
    "        new_x = rotateMe(new_x, degrees)\n",
    "    \n",
    "    if changeType >= 1: # then shift\n",
    "        a_factor = random.uniform(shiftMin, shiftMax)\n",
    "        b_factor = random.uniform(shiftMin, shiftMax)\n",
    "        new_x = shiftMe(new_x, a_factor, b_factor)\n",
    "        \n",
    "    return new_x\n",
    "    \n",
    "\n",
    "def rotateMe(x, degrees):\n",
    "    return interpolation.rotate(x, degrees, reshape=False, mode='nearest')\n",
    "\n",
    "def shiftMe(x, a_factor, b_factor):\n",
    "    return interpolation.shift(x, [a_factor, b_factor, 0], mode='nearest', order=3)\n",
    "    "
   ]
  },
  {
   "cell_type": "code",
   "execution_count": 8,
   "metadata": {
    "collapsed": true,
    "deletable": true,
    "editable": true
   },
   "outputs": [],
   "source": [
    "### Preprocessing Pipeline\n",
    "def preprocess(X, y):\n",
    "\n",
    "    X = normalize(X)\n",
    "    \n",
    "    X = pcaWhiten(X)\n",
    "    \n",
    "   \n",
    "    return X, y"
   ]
  },
  {
   "cell_type": "code",
   "execution_count": 9,
   "metadata": {
    "collapsed": false,
    "deletable": true,
    "editable": true,
    "scrolled": true
   },
   "outputs": [
    {
     "name": "stdout",
     "output_type": "stream",
     "text": [
      "Starting sizes - x:106902528 y:34799\n",
      "Adding images to balance classes...\n",
      "Ending sizes - x:265512960 y:864300 complete\n"
     ]
    },
    {
     "data": {
      "image/png": "[encoded data removed]",
      "text/plain": [
       "<matplotlib.figure.Figure at 0x7fc89b600eb8>"
      ]
     },
     "metadata": {},
     "output_type": "display_data"
    },
    {
     "name": "stdout",
     "output_type": "stream",
     "text": [
      "Normalized values and image from previous random example:\n",
      "[[[-0.08273651 -0.07984711 -0.083286  ]\n",
      "  [-0.05764845 -0.05606889 -0.06286519]\n",
      "  [-0.05785983 -0.06321323 -0.06014053]\n",
      "  ..., \n",
      "  [-0.06746682 -0.06409434 -0.05670361]\n",
      "  [-0.07458855 -0.06586802 -0.04844416]\n",
      "  [-0.06324426 -0.05423872 -0.05486318]]\n",
      "\n",
      " [[-0.07264652 -0.07776132 -0.08104503]\n",
      "  [-0.07077034 -0.06922318 -0.0760477 ]\n",
      "  [-0.05548048 -0.05305644 -0.05779975]\n",
      "  ..., \n",
      "  [-0.06381023 -0.06108921 -0.05408424]\n",
      "  [-0.07119249 -0.06323114 -0.05399833]\n",
      "  [-0.03638758 -0.02803005 -0.02889425]]\n",
      "\n",
      " [[-0.06166322 -0.07461508 -0.07790261]\n",
      "  [-0.06041238 -0.06698603 -0.07375837]\n",
      "  [-0.0602713  -0.05810961 -0.06288985]\n",
      "  ..., \n",
      "  [-0.05170877 -0.05783599 -0.05889285]\n",
      "  [-0.05916235 -0.05998154 -0.05869913]\n",
      "  [-0.0483561  -0.04064958 -0.0415587 ]]\n",
      "\n",
      " ..., \n",
      " [[ 0.05014708  0.06006501  0.06766477]\n",
      "  [ 0.05819423  0.06737255  0.07144684]\n",
      "  [ 0.05511629  0.05857156  0.06460954]\n",
      "  ..., \n",
      "  [ 0.03288259  0.04181551  0.04918446]\n",
      "  [ 0.05126544  0.04856746  0.05065215]\n",
      "  [ 0.04774534  0.03699766  0.0370518 ]]\n",
      "\n",
      " [[ 0.04405824  0.05404885  0.06205751]\n",
      "  [ 0.05227126  0.06131773  0.06569593]\n",
      "  [ 0.04961629  0.06055026  0.06691212]\n",
      "  ..., \n",
      "  [ 0.03588673  0.04374957  0.05129139]\n",
      "  [ 0.04645774  0.05098837  0.05307751]\n",
      "  [ 0.0507286   0.04756625  0.0554668 ]]\n",
      "\n",
      " [[ 0.05424642  0.05626622  0.06426462]\n",
      "  [ 0.05454217  0.06335724  0.06779823]\n",
      "  [ 0.04413399  0.05473747  0.06114125]\n",
      "  ..., \n",
      "  [ 0.04621892  0.04528861  0.05285929]\n",
      "  [ 0.04914436  0.05304521  0.05523217]\n",
      "  [ 0.04504148  0.04958479  0.05758589]]]\n"
     ]
    },
    {
     "data": {
      "image/png": "[encoded data removed]",
      "text/plain": [
       "<matplotlib.figure.Figure at 0x7fc89b4ddf60>"
      ]
     },
     "metadata": {},
     "output_type": "display_data"
    }
   ],
   "source": [
    "### Preprocess the data here. Preprocessing steps could include normalization, converting to grayscale, etc.\n",
    "### Feel free to use as many code cells as needed.\n",
    "\n",
    "# Add supplemental training images to under-represented classes\n",
    "print (\"Starting sizes - x:{} y:{}\".format(X_train.size, y_train.size))\n",
    "X_train, y_train = balanceClasses(X_train, y_train)\n",
    "print (\"Ending sizes - x:{} y:{}\".format(X_train.size, y_train.size))\n",
    "printHistogram(y_train, n_classes)\n",
    "\n",
    "# Execute preprocessing chains\n",
    "X_train, y_train = preprocess(X_train, y_train)\n",
    "X_valid, y_valid = preprocess(X_valid, y_valid)\n",
    "X_test, y_test = preprocess(X_test, y_test)\n",
    "\n",
    "# Show preprocessing results example\n",
    "print(\"Normalized values and image from previous random example:\")\n",
    "print(X_train[index])\n",
    "printImage(X_train[index])\n",
    "\n",
    "# Shuffle the data\n",
    "X_train, y_train = shuffle(X_train, y_train)"
   ]
  },
  {
   "cell_type": "markdown",
   "metadata": {
    "deletable": true,
    "editable": true
   },
   "source": [
    "### Model Architecture"
   ]
  },
  {
   "cell_type": "code",
   "execution_count": 28,
   "metadata": {
    "collapsed": true,
    "deletable": true,
    "editable": true
   },
   "outputs": [],
   "source": [
    "### Tweaked settings\n",
    "EPOCHS = 60\n",
    "BATCH_SIZE = 24\n",
    "DROPOUT_KEEP_PROB = 0.5\n",
    "MU = 0\n",
    "SIGMA = 0.1\n",
    "LEARN_RATE = 0.001"
   ]
  },
  {
   "cell_type": "code",
   "execution_count": 29,
   "metadata": {
    "collapsed": false,
    "deletable": true,
    "editable": true
   },
   "outputs": [],
   "source": [
    "### Define your architecture here.\n",
    "### Feel free to use as many code cells as needed.\n",
    "\n",
    "# this is used to easily experiment with different activation functions\n",
    "def my_activation(layer):\n",
    "    return tf.nn.softsign(layer)\n",
    "\n",
    "def LeNet(x):\n",
    "    \n",
    "    # Layer 1: Convolutional.  Input = 32x32x3.  Output = 28x28x12.\n",
    "    l1_W = tf.Variable(tf.truncated_normal([5, 5, 3, 12], MU, SIGMA))\n",
    "    l1_b = tf.Variable(tf.zeros(12))\n",
    "    l1_strides = [1, 1, 1, 1]\n",
    "    l1_padding = 'VALID'\n",
    "    \n",
    "    layer1 = tf.nn.conv2d(x, l1_W, l1_strides, l1_padding)\n",
    "    layer1 = tf.nn.bias_add(layer1, l1_b)\n",
    "    \n",
    "    # Layer 1: Activation.\n",
    "    layer1 = my_activation(layer1)\n",
    "    \n",
    "    # Layer 1: Pooling.  Input = 28x28x12.  Output = 14x14x12.\n",
    "    p1_ksize = [1, 2, 2, 1]\n",
    "    p1_strides = [1, 2, 2, 1]\n",
    "    p1_padding = 'VALID'\n",
    "    \n",
    "    pooled1 = tf.nn.max_pool(layer1, p1_ksize, p1_strides, p1_padding)\n",
    "    \n",
    "    # Layer 2: Convolutional. Input = 14x14x12. Output = 10x10x32\n",
    "    l2_W = tf.Variable(tf.truncated_normal([5, 5, 12, 32], MU, SIGMA))\n",
    "    l2_b = tf.Variable(tf.zeros(32))\n",
    "    l2_strides = [1, 1, 1, 1]\n",
    "    l2_padding = 'VALID'\n",
    "    \n",
    "    layer2 = tf.nn.conv2d(pooled1, l2_W, l2_strides, l2_padding)\n",
    "    layer2 = tf.nn.bias_add(layer2, l2_b)\n",
    "    \n",
    "    # Layer 2: Activiation.\n",
    "    layer2 = my_activation(layer2)\n",
    "    \n",
    "    # Layer 2: Pooling.  Input = 10x10x32.  Output = 5x5x32.\n",
    "    p2_ksize = [1, 2, 2, 1]\n",
    "    p2_strides = [1, 2, 2, 1]\n",
    "    p2_padding = 'VALID'\n",
    "    \n",
    "    pooled2 = tf.nn.max_pool(layer2, p2_ksize, p2_strides, p2_padding)\n",
    "    \n",
    "    # Layer 3: Flatten.  Input = 5x5x32.  Output = 800.\n",
    "    layer3 = tf.reshape(pooled2, [-1, 800])\n",
    "    \n",
    "    # Layer 3: Fully Connected.  Input = 800.  Output = 400.\n",
    "    l3_W = tf.Variable(tf.truncated_normal([800, 400], MU, SIGMA))\n",
    "    l3_b = tf.Variable(tf.zeros([400]))\n",
    "    layer3 = tf.add(tf.matmul(layer3, l3_W), l3_b)\n",
    "    \n",
    "    # Layer 3: Dropout\n",
    "    layer3 = tf.nn.dropout(layer3, DROPOUT_KEEP_PROB)\n",
    "    \n",
    "    # Layer 3: Activation.\n",
    "    layer3 = my_activation(layer3)\n",
    "    \n",
    "    # Layer 3a: Fully Connected.  Input = 400.  Output = 120.\n",
    "    l3a_W = tf.Variable(tf.truncated_normal([400, 120], MU, SIGMA))\n",
    "    l3a_b = tf.Variable(tf.zeros([120]))\n",
    "    layer3a = tf.add(tf.matmul(layer3, l3a_W), l3a_b)\n",
    "    \n",
    "    # Layer 3a: Dropout\n",
    "    layer3a = tf.nn.dropout(layer3a, DROPOUT_KEEP_PROB)\n",
    "    \n",
    "    # Layer 3a: Activation.\n",
    "    layer3a = my_activation(layer3a)\n",
    "    \n",
    "    # Layer 4: Fully connected.  Input = 120.  Output = 84.\n",
    "    l4_W = tf.Variable(tf.truncated_normal([120, 84], MU, SIGMA))\n",
    "    l4_b = tf.Variable(tf.zeros([84]))\n",
    "    layer4 = tf.add(tf.matmul(layer3a, l4_W), l4_b)\n",
    "    \n",
    "    # Layer 4: Activation.\n",
    "    layer4 = my_activation(layer4)\n",
    "        \n",
    "    # Layer 5: Final, fully connected.  Input = 84.  Output = 43.\n",
    "    l5_W = tf.Variable(tf.truncated_normal([84, 43], MU, SIGMA))\n",
    "    l5_b = tf.Variable(tf.zeros([43]))\n",
    "    logits = tf.add(tf.matmul(layer4, l5_W), l5_b)\n",
    "\n",
    "    return logits\n",
    "    \n"
   ]
  },
  {
   "cell_type": "markdown",
   "metadata": {
    "deletable": true,
    "editable": true
   },
   "source": [
    "### Set up Features and Labels"
   ]
  },
  {
   "cell_type": "code",
   "execution_count": 30,
   "metadata": {
    "collapsed": true,
    "deletable": true,
    "editable": true
   },
   "outputs": [],
   "source": [
    "x = tf.placeholder(tf.float32, (None, 32, 32, 3))\n",
    "y = tf.placeholder(tf.int32, (None))\n",
    "one_hot_y = tf.one_hot(y, 43)"
   ]
  },
  {
   "cell_type": "markdown",
   "metadata": {
    "deletable": true,
    "editable": true
   },
   "source": [
    "### Train, Validate and Test the Model"
   ]
  },
  {
   "cell_type": "markdown",
   "metadata": {
    "deletable": true,
    "editable": true
   },
   "source": [
    "A validation set can be used to assess how well the model is performing. A low accuracy on the training and validation\n",
    "sets imply underfitting. A high accuracy on the training set but low accuracy on the validation set implies overfitting."
   ]
  },
  {
   "cell_type": "code",
   "execution_count": 31,
   "metadata": {
    "collapsed": false,
    "deletable": true,
    "editable": true
   },
   "outputs": [],
   "source": [
    "### Pipline setup\n",
    "logits = LeNet(x)\n",
    "cross_entropy = tf.nn.softmax_cross_entropy_with_logits(logits=logits, labels=one_hot_y)\n",
    "loss_operation = tf.reduce_mean(cross_entropy)\n",
    "#optimizer = tf.train.AdamOptimizer(learning_rate = LEARN_RATE)\n",
    "optimizer = tf.train.AdamOptimizer(learning_rate = LEARN_RATE)\n",
    "training_operation = optimizer.minimize(loss_operation)"
   ]
  },
  {
   "cell_type": "code",
   "execution_count": 32,
   "metadata": {
    "collapsed": true,
    "deletable": true,
    "editable": true
   },
   "outputs": [],
   "source": [
    "### Model Evaluation\n",
    "correct_prediction = tf.equal(tf.argmax(logits, 1), tf.argmax(one_hot_y, 1))\n",
    "accuracy_operation = tf.reduce_mean(tf.cast(correct_prediction, tf.float32))\n",
    "saver = tf.train.Saver()\n",
    "\n",
    "def evaluate(X_data, y_data):\n",
    "    num_examples = len(X_data)\n",
    "    total_accuracy = 0\n",
    "    sess = tf.get_default_session()\n",
    "    for offset in range(0, num_examples, BATCH_SIZE):\n",
    "        batch_x, batch_y = X_data[offset:offset+BATCH_SIZE], y_data[offset:offset+BATCH_SIZE]\n",
    "           \n",
    "        accuracy = sess.run(accuracy_operation, feed_dict={x: batch_x, y: batch_y})\n",
    "        total_accuracy += (accuracy * len(batch_x))\n",
    "    return total_accuracy / num_examples"
   ]
  },
  {
   "cell_type": "code",
   "execution_count": null,
   "metadata": {
    "collapsed": false,
    "deletable": true,
    "editable": true
   },
   "outputs": [
    {
     "name": "stdout",
     "output_type": "stream",
     "text": [
      "Training...\n",
      "\n",
      "EPOCH 1 ...\n",
      "Validation Accuracy = 0.700\n",
      "\n",
      "EPOCH 2 ...\n",
      "Validation Accuracy = 0.739\n",
      "\n",
      "EPOCH 3 ...\n",
      "Validation Accuracy = 0.763\n",
      "\n",
      "EPOCH 4 ...\n",
      "Validation Accuracy = 0.784\n",
      "\n",
      "EPOCH 5 ...\n",
      "Validation Accuracy = 0.784\n",
      "\n",
      "EPOCH 6 ...\n",
      "Validation Accuracy = 0.804\n",
      "\n",
      "EPOCH 7 ...\n",
      "Validation Accuracy = 0.809\n",
      "\n",
      "EPOCH 8 ...\n",
      "Validation Accuracy = 0.819\n",
      "\n",
      "EPOCH 9 ...\n",
      "Validation Accuracy = 0.817\n",
      "\n",
      "EPOCH 10 ...\n",
      "Validation Accuracy = 0.824\n",
      "\n",
      "EPOCH 11 ...\n",
      "Validation Accuracy = 0.812\n",
      "\n",
      "EPOCH 12 ...\n",
      "Validation Accuracy = 0.820\n",
      "\n",
      "EPOCH 13 ...\n",
      "Validation Accuracy = 0.821\n",
      "\n",
      "EPOCH 14 ...\n",
      "Validation Accuracy = 0.824\n",
      "\n",
      "EPOCH 15 ...\n",
      "Validation Accuracy = 0.809\n",
      "\n",
      "EPOCH 16 ...\n",
      "Validation Accuracy = 0.830\n",
      "\n",
      "EPOCH 17 ...\n",
      "Validation Accuracy = 0.806\n",
      "\n",
      "EPOCH 18 ...\n",
      "Validation Accuracy = 0.822\n",
      "\n",
      "EPOCH 19 ...\n",
      "Validation Accuracy = 0.834\n",
      "\n",
      "EPOCH 20 ...\n",
      "Validation Accuracy = 0.817\n",
      "\n",
      "EPOCH 21 ...\n",
      "Validation Accuracy = 0.814\n",
      "\n",
      "EPOCH 22 ...\n",
      "Validation Accuracy = 0.811\n",
      "\n",
      "EPOCH 23 ...\n",
      "Validation Accuracy = 0.822\n",
      "\n",
      "EPOCH 24 ...\n",
      "Validation Accuracy = 0.814\n",
      "\n",
      "EPOCH 25 ...\n",
      "Validation Accuracy = 0.818\n",
      "\n",
      "EPOCH 26 ...\n",
      "Validation Accuracy = 0.841\n",
      "\n",
      "EPOCH 27 ...\n",
      "Validation Accuracy = 0.824\n",
      "\n",
      "EPOCH 28 ...\n",
      "Validation Accuracy = 0.825\n",
      "\n",
      "EPOCH 29 ...\n",
      "Validation Accuracy = 0.829\n",
      "\n",
      "EPOCH 30 ...\n",
      "Validation Accuracy = 0.833\n",
      "\n",
      "EPOCH 31 ...\n",
      "Validation Accuracy = 0.822\n",
      "\n",
      "EPOCH 32 ...\n",
      "Validation Accuracy = 0.837\n",
      "\n",
      "EPOCH 33 ...\n",
      "Validation Accuracy = 0.822\n",
      "\n",
      "EPOCH 34 ...\n",
      "Validation Accuracy = 0.831\n",
      "\n",
      "EPOCH 35 ...\n",
      "Validation Accuracy = 0.815\n",
      "\n",
      "EPOCH 36 ...\n",
      "Validation Accuracy = 0.839\n",
      "\n",
      "EPOCH 37 ...\n",
      "Validation Accuracy = 0.831\n",
      "\n",
      "EPOCH 38 ...\n",
      "Validation Accuracy = 0.821\n",
      "\n",
      "EPOCH 39 ...\n",
      "Validation Accuracy = 0.815\n",
      "\n",
      "EPOCH 40 ...\n",
      "Validation Accuracy = 0.830\n",
      "\n",
      "EPOCH 41 ...\n",
      "Validation Accuracy = 0.827\n",
      "\n",
      "EPOCH 42 ...\n",
      "Validation Accuracy = 0.825\n",
      "\n",
      "EPOCH 43 ...\n",
      "Validation Accuracy = 0.835\n",
      "\n",
      "EPOCH 44 ...\n",
      "Validation Accuracy = 0.837\n",
      "\n",
      "EPOCH 45 ...\n",
      "Validation Accuracy = 0.815\n",
      "\n",
      "EPOCH 46 ...\n",
      "Validation Accuracy = 0.817\n",
      "\n",
      "EPOCH 47 ...\n",
      "Validation Accuracy = 0.827\n",
      "\n"
     ]
    }
   ],
   "source": [
    "### Train your model here.\n",
    "### Calculate and report the accuracy on the training and validation set.\n",
    "### Once a final model architecture is selected, \n",
    "### the accuracy on the test set should be calculated and reported as well.\n",
    "### Feel free to use as many code cells as needed.\n",
    "\n",
    "# Variable for collecting accuracy over epochs for graphing\n",
    "epoch_accuracy = []\n",
    "\n",
    "with tf.Session() as sess:\n",
    "    \n",
    "    sess.run(tf.global_variables_initializer())\n",
    "    num_examples = len(X_train)\n",
    "    \n",
    "    print(\"Training...\")\n",
    "    print()\n",
    "    for i in range(EPOCHS):\n",
    "        X_train, y_train = shuffle(X_train, y_train)\n",
    "        for offset in range(0, num_examples, BATCH_SIZE):\n",
    "            end = offset + BATCH_SIZE\n",
    "            batch_x, batch_y = X_train[offset:end], y_train[offset:end]\n",
    "            sess.run(training_operation, feed_dict={x: batch_x, y: batch_y})\n",
    "            \n",
    "        validation_accuracy = evaluate(X_valid, y_valid)\n",
    "        print(\"EPOCH {} ...\".format(i+1))\n",
    "        print(\"Validation Accuracy = {:.3f}\".format(validation_accuracy))\n",
    "        print()\n",
    "        epoch_accuracy.append(validation_accuracy)\n",
    "        \n",
    "    saver.save(sess, './signs')\n",
    "    print(\"Model saved\")\n",
    "    \n",
    "plt.scatter(range(EPOCHS), epoch_accuracy)\n",
    "plt.show()"
   ]
  },
  {
   "cell_type": "code",
   "execution_count": 16,
   "metadata": {
    "collapsed": false,
    "deletable": true,
    "editable": true
   },
   "outputs": [
    {
     "name": "stdout",
     "output_type": "stream",
     "text": [
      "  Final Training Accuracy = 0.944\n",
      "Final Validation Accuracy = 0.841\n",
      "            Test Accuracy = 0.840\n"
     ]
    }
   ],
   "source": [
    "# Accuracy Results\n",
    "with tf.Session() as sess:\n",
    "    saver.restore(sess, './signs')\n",
    "    train_accuracy = evaluate(X_train, y_train)\n",
    "    valid_accuracy = evaluate(X_valid, y_valid)\n",
    "    test_accuracy = evaluate(X_test, y_test)\n",
    "    print(\"  Final Training Accuracy = {:.3f}\".format(train_accuracy))\n",
    "    print(\"Final Validation Accuracy = {:.3f}\".format(valid_accuracy))\n",
    "    print(\"            Test Accuracy = {:.3f}\".format(test_accuracy))"
   ]
  },
  {
   "cell_type": "markdown",
   "metadata": {
    "deletable": true,
    "editable": true
   },
   "source": [
    "---\n",
    "\n",
    "## Step 3: Test a Model on New Images\n",
    "\n",
    "To give yourself more insight into how your model is working, download at least five pictures of German traffic signs from the web and use your model to predict the traffic sign type.\n",
    "\n",
    "You may find `signnames.csv` useful as it contains mappings from the class id (integer) to the actual sign name."
   ]
  },
  {
   "cell_type": "markdown",
   "metadata": {
    "deletable": true,
    "editable": true
   },
   "source": [
    "### Load and Output the Images"
   ]
  },
  {
   "cell_type": "code",
   "execution_count": 17,
   "metadata": {
    "collapsed": false,
    "deletable": true,
    "editable": true
   },
   "outputs": [
    {
     "data": {
      "image/png": "[encoded data removed]",
      "text/plain": [
       "<matplotlib.figure.Figure at 0x7fc88e876198>"
      ]
     },
     "metadata": {},
     "output_type": "display_data"
    }
   ],
   "source": [
    "### Load the images and plot them here.\n",
    "### Feel free to use as many code cells as needed.\n",
    "\n",
    "image_path = './images/'\n",
    "images = []\n",
    "results = np.array([25, 5, 11, 1, 17], dtype=np.int32)\n",
    "\n",
    "for i in range(0, 5):\n",
    "    filename = 'sign' + str(i) + '-formatted.png'\n",
    "    images.append(mpimg.imread(image_path + filename))\n",
    "\n",
    "# Drop 4th png element from images\n",
    "# TODO: Really this should be broken out as image cleanup/validation method\n",
    "#       Probably not required for this project\n",
    "images = np.array(images, dtype=np.float32)\n",
    "images = np.delete(images, 3, 3)\n",
    "\n",
    "# Print images\n",
    "fig = plt.figure(figsize=(7, 1))\n",
    "i = 0\n",
    "for image in images:\n",
    "    a = fig.add_subplot(1, 5, i + 1)\n",
    "    plt.imshow(image)\n",
    "    a.set_title(str(results[i]))\n",
    "    i += 1\n"
   ]
  },
  {
   "cell_type": "markdown",
   "metadata": {
    "deletable": true,
    "editable": true
   },
   "source": [
    "### Predict the Sign Type for Each Image"
   ]
  },
  {
   "cell_type": "code",
   "execution_count": 18,
   "metadata": {
    "collapsed": false,
    "deletable": true,
    "editable": true
   },
   "outputs": [
    {
     "name": "stdout",
     "output_type": "stream",
     "text": [
      "Model restored\n",
      "Prediction: [32 15 15 15 32]\n",
      "    Actual: [25  5 11  1 17]\n"
     ]
    }
   ],
   "source": [
    "### Run the predictions here and use the model to output the prediction for each image.\n",
    "### Make sure to pre-process the images with the same pre-processing pipeline used earlier.\n",
    "### Feel free to use as many code cells as needed.\n",
    "\n",
    "# Preprocess\n",
    "X_sample, y_sample = preprocess(images, results)\n",
    "\n",
    "# Prediction function\n",
    "predictions = tf.argmax(logits, 1)\n",
    "\n",
    "# In new tf Session, restore variables and evaluate accurace\n",
    "with tf.Session() as sess:\n",
    "    saver.restore(sess, './signs')\n",
    "    print(\"Model restored\")\n",
    "    sample_prediction = sess.run(predictions, feed_dict={x: X_sample, y: y_sample})\n",
    "\n",
    "# Display results\n",
    "print('Prediction: ' + str(sample_prediction))\n",
    "print('    Actual: ' + str(y_sample))\n",
    "                        "
   ]
  },
  {
   "cell_type": "markdown",
   "metadata": {
    "deletable": true,
    "editable": true
   },
   "source": [
    "### Analyze Performance"
   ]
  },
  {
   "cell_type": "code",
   "execution_count": 19,
   "metadata": {
    "collapsed": false,
    "deletable": true,
    "editable": true
   },
   "outputs": [
    {
     "name": "stdout",
     "output_type": "stream",
     "text": [
      "  Accuracy: 0.0% (0 out of 5 correct)\n"
     ]
    }
   ],
   "source": [
    "### Calculate the accuracy for these 5 new images. \n",
    "### For example, if the model predicted 1 out of 5 signs correctly, it's 20% accurate on these new images.\n",
    "num_correct = np.sum(np.equal(sample_prediction, y_sample))\n",
    "num_samples = np.size(sample_prediction)\n",
    "print('  Accuracy: {:.1f}% ({} out of {} correct)'.format((float(num_correct) / float(num_samples)) * 100, \n",
    "                                                          num_correct, num_samples))\n"
   ]
  },
  {
   "cell_type": "markdown",
   "metadata": {
    "deletable": true,
    "editable": true
   },
   "source": [
    "### Output Top 5 Softmax Probabilities For Each Image Found on the Web"
   ]
  },
  {
   "cell_type": "markdown",
   "metadata": {
    "deletable": true,
    "editable": true
   },
   "source": [
    "For each of the new images, print out the model's softmax probabilities to show the **certainty** of the model's predictions (limit the output to the top 5 probabilities for each image). [`tf.nn.top_k`](https://www.tensorflow.org/versions/r0.12/api_docs/python/nn.html#top_k) could prove helpful here. \n",
    "\n",
    "The example below demonstrates how tf.nn.top_k can be used to find the top k predictions for each image.\n",
    "\n",
    "`tf.nn.top_k` will return the values and indices (class ids) of the top k predictions. So if k=3, for each sign, it'll return the 3 largest probabilities (out of a possible 43) and the correspoding class ids.\n",
    "\n",
    "Take this numpy array as an example. The values in the array represent predictions. The array contains softmax probabilities for five candidate images with six possible classes. `tk.nn.top_k` is used to choose the three classes with the highest probability:\n",
    "\n",
    "```\n",
    "# (5, 6) array\n",
    "a = np.array([[ 0.24879643,  0.07032244,  0.12641572,  0.34763842,  0.07893497,\n",
    "         0.12789202],\n",
    "       [ 0.28086119,  0.27569815,  0.08594638,  0.0178669 ,  0.18063401,\n",
    "         0.15899337],\n",
    "       [ 0.26076848,  0.23664738,  0.08020603,  0.07001922,  0.1134371 ,\n",
    "         0.23892179],\n",
    "       [ 0.11943333,  0.29198961,  0.02605103,  0.26234032,  0.1351348 ,\n",
    "         0.16505091],\n",
    "       [ 0.09561176,  0.34396535,  0.0643941 ,  0.16240774,  0.24206137,\n",
    "         0.09155967]])\n",
    "```\n",
    "\n",
    "Running it through `sess.run(tf.nn.top_k(tf.constant(a), k=3))` produces:\n",
    "\n",
    "```\n",
    "TopKV2(values=array([[ 0.34763842,  0.24879643,  0.12789202],\n",
    "       [ 0.28086119,  0.27569815,  0.18063401],\n",
    "       [ 0.26076848,  0.23892179,  0.23664738],\n",
    "       [ 0.29198961,  0.26234032,  0.16505091],\n",
    "       [ 0.34396535,  0.24206137,  0.16240774]]), indices=array([[3, 0, 5],\n",
    "       [0, 1, 4],\n",
    "       [0, 5, 1],\n",
    "       [1, 3, 5],\n",
    "       [1, 4, 3]], dtype=int32))\n",
    "```\n",
    "\n",
    "Looking just at the first row we get `[ 0.34763842,  0.24879643,  0.12789202]`, you can confirm these are the 3 largest probabilities in `a`. You'll also notice `[3, 0, 5]` are the corresponding indices."
   ]
  },
  {
   "cell_type": "code",
   "execution_count": 20,
   "metadata": {
    "collapsed": false,
    "deletable": true,
    "editable": true
   },
   "outputs": [
    {
     "name": "stdout",
     "output_type": "stream",
     "text": [
      "TopKV2(values=array([[  8.65106225e-01,   6.31494150e-02,   3.01817283e-02,\n",
      "          1.11774411e-02,   1.04116881e-02],\n",
      "       [  7.05292881e-01,   1.30979061e-01,   1.26874104e-01,\n",
      "          1.73212271e-02,   6.79502310e-03],\n",
      "       [  9.42564070e-01,   4.94529940e-02,   2.46993336e-03,\n",
      "          2.09066900e-03,   8.04138312e-04],\n",
      "       [  9.43350971e-01,   4.37535495e-02,   7.71410530e-03,\n",
      "          1.24409667e-03,   1.23906147e-03],\n",
      "       [  9.04148042e-01,   7.27765709e-02,   1.86051372e-02,\n",
      "          2.51575559e-03,   1.05565169e-03]], dtype=float32), indices=array([[15, 32, 18, 22,  5],\n",
      "       [15, 32,  5,  4, 41],\n",
      "       [15, 32, 13, 41,  4],\n",
      "       [15, 32, 13,  5, 18],\n",
      "       [15, 32, 13, 41, 18]], dtype=int32))\n"
     ]
    }
   ],
   "source": [
    "### Print out the top five softmax probabilities for the predictions on the German traffic sign images found on the web. \n",
    "### Feel free to use as many code cells as needed.\n",
    "with tf.Session() as sess:\n",
    "    saver.restore(sess, './signs')\n",
    "    sm = tf.nn.softmax(logits)\n",
    "    top5probabilities = sess.run(tf.nn.top_k(sm, k=5), feed_dict={x: X_sample, y: y_sample})\n",
    "\n",
    "print(top5probabilities)"
   ]
  },
  {
   "cell_type": "markdown",
   "metadata": {
    "deletable": true,
    "editable": true
   },
   "source": [
    "---\n",
    "\n",
    "## Step 4: Visualize the Neural Network's State with Test Images\n",
    "\n",
    " This Section is not required to complete but acts as an additional excersise for understaning the output of a neural network's weights. While neural networks can be a great learning device they are often referred to as a black box. We can understand what the weights of a neural network look like better by plotting their feature maps. After successfully training your neural network you can see what it's feature maps look like by plotting the output of the network's weight layers in response to a test stimuli image. From these plotted feature maps, it's possible to see what characteristics of an image the network finds interesting. For a sign, maybe the inner network feature maps react with high activation to the sign's boundary outline or to the contrast in the sign's painted symbol.\n",
    "\n",
    " Provided for you below is the function code that allows you to get the visualization output of any tensorflow weight layer you want. The inputs to the function should be a stimuli image, one used during training or a new one you provided, and then the tensorflow variable name that represents the layer's state during the training process, for instance if you wanted to see what the [LeNet lab's](https://classroom.udacity.com/nanodegrees/nd013/parts/fbf77062-5703-404e-b60c-95b78b2f3f9e/modules/6df7ae49-c61c-4bb2-a23e-6527e69209ec/lessons/601ae704-1035-4287-8b11-e2c2716217ad/concepts/d4aca031-508f-4e0b-b493-e7b706120f81) feature maps looked like for it's second convolutional layer you could enter conv2 as the tf_activation variable.\n",
    "\n",
    "For an example of what feature map outputs look like, check out NVIDIA's results in their paper [End-to-End Deep Learning for Self-Driving Cars](https://devblogs.nvidia.com/parallelforall/deep-learning-self-driving-cars/) in the section Visualization of internal CNN State. NVIDIA was able to show that their network's inner weights had high activations to road boundary lines by comparing feature maps from an image with a clear path to one without. Try experimenting with a similar test to show that your trained network's weights are looking for interesting features, whether it's looking at differences in feature maps from images with or without a sign, or even what feature maps look like in a trained network vs a completely untrained one on the same sign image.\n",
    "\n",
    "<figure>\n",
    " <img src=\"visualize_cnn.png\" width=\"380\" alt=\"Combined Image\" />\n",
    " <figcaption>\n",
    " <p></p> \n",
    " <p style=\"text-align: center;\"> Your output should look something like this (above)</p> \n",
    " </figcaption>\n",
    "</figure>\n",
    " <p></p> \n"
   ]
  },
  {
   "cell_type": "code",
   "execution_count": 21,
   "metadata": {
    "collapsed": true,
    "deletable": true,
    "editable": true
   },
   "outputs": [],
   "source": [
    "### Visualize your network's feature maps here.\n",
    "### Feel free to use as many code cells as needed.\n",
    "\n",
    "# image_input: the test image being fed into the network to produce the feature maps\n",
    "# tf_activation: should be a tf variable name used during your training procedure that represents the calculated state of a specific weight layer\n",
    "# activation_min/max: can be used to view the activation contrast in more detail, by default matplot sets min and max to the actual min and max values of the output\n",
    "# plt_num: used to plot out multiple different weight feature map sets on the same block, just extend the plt number for each new feature map entry\n",
    "\n",
    "def outputFeatureMap(image_input, tf_activation, activation_min=-1, activation_max=-1 ,plt_num=1):\n",
    "    # Here make sure to preprocess your image_input in a way your network expects\n",
    "    # with size, normalization, ect if needed\n",
    "    # image_input =\n",
    "    # Note: x should be the same name as your network's tensorflow data placeholder variable\n",
    "    # If you get an error tf_activation is not defined it maybe having trouble accessing the variable from inside a function\n",
    "    activation = tf_activation.eval(session=sess,feed_dict={x : image_input})\n",
    "    featuremaps = activation.shape[3]\n",
    "    plt.figure(plt_num, figsize=(15,15))\n",
    "    for featuremap in range(featuremaps):\n",
    "        plt.subplot(6,8, featuremap+1) # sets the number of feature maps to show on each row and column\n",
    "        plt.title('FeatureMap ' + str(featuremap)) # displays the feature map number\n",
    "        if activation_min != -1 & activation_max != -1:\n",
    "            plt.imshow(activation[0,:,:, featuremap], interpolation=\"nearest\", vmin =activation_min, vmax=activation_max, cmap=\"gray\")\n",
    "        elif activation_max != -1:\n",
    "            plt.imshow(activation[0,:,:, featuremap], interpolation=\"nearest\", vmax=activation_max, cmap=\"gray\")\n",
    "        elif activation_min !=-1:\n",
    "            plt.imshow(activation[0,:,:, featuremap], interpolation=\"nearest\", vmin=activation_min, cmap=\"gray\")\n",
    "        else:\n",
    "            plt.imshow(activation[0,:,:, featuremap], interpolation=\"nearest\", cmap=\"gray\")"
   ]
  },
  {
   "cell_type": "markdown",
   "metadata": {
    "deletable": true,
    "editable": true
   },
   "source": [
    "### Question 9\n",
    "\n",
    "Discuss how you used the visual output of your trained network's feature maps to show that it had learned to look for interesting characteristics in traffic sign images\n"
   ]
  },
  {
   "cell_type": "markdown",
   "metadata": {
    "deletable": true,
    "editable": true
   },
   "source": [
    "**Answer:**"
   ]
  },
  {
   "cell_type": "markdown",
   "metadata": {
    "deletable": true,
    "editable": true
   },
   "source": [
    "> **Note**: Once you have completed all of the code implementations and successfully answered each question above, you may finalize your work by exporting the iPython Notebook as an HTML document. You can do this by using the menu above and navigating to  \\n\",\n",
    "    \"**File -> Download as -> HTML (.html)**. Include the finished document along with this notebook as your submission."
   ]
  }
 ],
 "metadata": {
  "anaconda-cloud": {},
  "kernelspec": {
   "display_name": "Python 3",
   "language": "python",
   "name": "python3"
  },
  "language_info": {
   "codemirror_mode": {
    "name": "ipython",
    "version": 3
   },
   "file_extension": ".py",
   "mimetype": "text/x-python",
   "name": "python",
   "nbconvert_exporter": "python",
   "pygments_lexer": "ipython3",
   "version": "3.5.2"
  },
  "widgets": {
   "state": {},
   "version": "1.1.2"
  }
 },
 "nbformat": 4,
 "nbformat_minor": 1
}
